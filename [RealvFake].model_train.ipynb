{
 "cells": [
  {
   "cell_type": "markdown",
   "id": "8e0a55f8-9231-47b1-8d55-7e55baa62faa",
   "metadata": {},
   "source": [
    "Training:\n",
    "\n",
    "Split the Spark dataframe into train and test sets."
   ]
  },
  {
   "cell_type": "code",
   "execution_count": 13,
   "id": "10edc6c2-0c3d-462d-b5bf-6808912cded9",
   "metadata": {},
   "outputs": [],
   "source": [
    "DF_train, DF_test = DF.randomSplit(weights=[0.8,0.2],seed=5)"
   ]
  },
  {
   "cell_type": "markdown",
   "id": "e6fad986-b6ad-42ad-a44a-15e03c09b87e",
   "metadata": {},
   "source": [
    "Train the machine learning models:\n",
    "\n",
    "Logistic Regression and Boosted Trees using both word2vec and hashtf feature extractors."
   ]
  },
  {
   "cell_type": "code",
   "execution_count": 14,
   "id": "e8656508-2440-4431-b67f-ef20e8a2141f",
   "metadata": {},
   "outputs": [],
   "source": [
    "lr_pipe_word2vec = Pipeline(stages=[lr])\n",
    "gbt_pipe_word2vec = Pipeline(stages=[gbt])\n",
    "\n",
    "lr_pipe_hashtf = Pipeline(stages=[lr2])\n",
    "gbt_pipe_hashtf = Pipeline(stages=[gbt2])\n",
    "\n",
    "model_lr_word2vec = lr_pipe_word2vec.fit(DF_train)\n",
    "model_gbt_word2vec = gbt_pipe_word2vec.fit(DF_train)\n",
    "model_lr_hashtf = lr_pipe_hashtf.fit(DF_train)\n",
    "model_gbt_hashtf = gbt_pipe_hashtf.fit(DF_train)"
   ]
  },
  {
   "cell_type": "markdown",
   "id": "285f605d-dbe1-498b-a9b8-89e09a373578",
   "metadata": {},
   "source": [
    "Train the neural network model:"
   ]
  },
  {
   "cell_type": "code",
   "execution_count": 18,
   "id": "db00e829-73d9-4221-98ff-9d3257bdd4fb",
   "metadata": {},
   "outputs": [
    {
     "name": "stdout",
     "output_type": "stream",
     "text": [
      "Epoch 1/2\n",
      "1123/1123 [==============================] - 46s 40ms/step - loss: 0.1660 - accuracy: 0.9433\n",
      "Epoch 2/2\n",
      "1123/1123 [==============================] - 49s 44ms/step - loss: 0.0413 - accuracy: 0.9899\n"
     ]
    },
    {
     "data": {
      "text/plain": [
       "<keras.callbacks.History at 0x1ff0e810ee0>"
      ]
     },
     "execution_count": 18,
     "metadata": {},
     "output_type": "execute_result"
    }
   ],
   "source": [
    "nnmodel.fit(train_numeric_padded, train_y, batch_size=batch_size, epochs = 2, use_multiprocessing = True)"
   ]
  },
  {
   "cell_type": "code",
   "execution_count": null,
   "id": "9fbca069-229b-4014-bf12-3ad48c258442",
   "metadata": {},
   "outputs": [],
   "source": []
  }
 ],
 "metadata": {
  "kernelspec": {
   "display_name": "Python 3 (ipykernel)",
   "language": "python",
   "name": "python3"
  },
  "language_info": {
   "codemirror_mode": {
    "name": "ipython",
    "version": 3
   },
   "file_extension": ".py",
   "mimetype": "text/x-python",
   "name": "python",
   "nbconvert_exporter": "python",
   "pygments_lexer": "ipython3",
   "version": "3.10.5"
  }
 },
 "nbformat": 4,
 "nbformat_minor": 5
}
