{
 "cells": [
  {
   "cell_type": "code",
   "execution_count": 10,
   "id": "a726ae39-b0e4-42ea-9525-4a460e7ad41a",
   "metadata": {},
   "outputs": [],
   "source": [
    "from pyspark.ml.classification import LogisticRegression, GBTClassifier\n",
    "\n",
    "from tensorflow.keras.models import Sequential\n",
    "from tensorflow.keras.layers import Embedding, LSTM, Dense, Activation, Dropout"
   ]
  },
  {
   "cell_type": "markdown",
   "id": "596fac08-dd2b-446a-bd3e-95a50686a146",
   "metadata": {},
   "source": [
    "Machine Learning Models:\n",
    "\n",
    "Here we use Logistic Regression and a Boosted Trees model, and we will restrict the text only for these (exluding title)"
   ]
  },
  {
   "cell_type": "code",
   "execution_count": 11,
   "id": "2d5c3be8-4c21-4001-8c57-a4d3b22d501d",
   "metadata": {},
   "outputs": [],
   "source": [
    "lr = LogisticRegression(featuresCol='text_norm',predictionCol='prediction',labelCol='Truthness',maxIter=5)\n",
    "gbt = GBTClassifier(featuresCol='text_norm',predictionCol='prediction',labelCol='Truthness',maxIter=5,seed=7)\n",
    "\n",
    "lr2 = LogisticRegression(featuresCol='text_hash',predictionCol='prediction',labelCol='Truthness',maxIter=5)\n",
    "gbt2 = GBTClassifier(featuresCol='text_hash',predictionCol='prediction',labelCol='Truthness',maxIter=5,seed=7)"
   ]
  },
  {
   "cell_type": "markdown",
   "id": "84026c78-02a5-4f3c-8e40-cd24362b62ef",
   "metadata": {},
   "source": [
    "Neural Network Model:"
   ]
  },
  {
   "cell_type": "code",
   "execution_count": 17,
   "id": "efe542b0-0903-4320-bc94-2acadf930d15",
   "metadata": {},
   "outputs": [
    {
     "name": "stdout",
     "output_type": "stream",
     "text": [
      "Model: \"sequential_1\"\n",
      "_________________________________________________________________\n",
      " Layer (type)                Output Shape              Param #   \n",
      "=================================================================\n",
      " embedding_1 (Embedding)     (None, 300, 10)           100000    \n",
      "                                                                 \n",
      " lstm_1 (LSTM)               (None, 16)                1728      \n",
      "                                                                 \n",
      " dropout_1 (Dropout)         (None, 16)                0         \n",
      "                                                                 \n",
      " dense_1 (Dense)             (None, 1)                 17        \n",
      "                                                                 \n",
      " activation_1 (Activation)   (None, 1)                 0         \n",
      "                                                                 \n",
      "=================================================================\n",
      "Total params: 101,745\n",
      "Trainable params: 101,745\n",
      "Non-trainable params: 0\n",
      "_________________________________________________________________\n",
      "None\n"
     ]
    }
   ],
   "source": [
    "batch_size = 32\n",
    "nnmodel = Sequential()\n",
    "nnmodel.add(Embedding(maxwords, 10, input_length = maxlength))\n",
    "nnmodel.add(LSTM(16))\n",
    "#nnmodel.add(Dense(256))\n",
    "#nnmodel.add(Activation('relu'))\n",
    "nnmodel.add(Dropout(.5))\n",
    "nnmodel.add(Dense(1))\n",
    "nnmodel.add(Activation('sigmoid'))\n",
    "nnmodel.compile(loss='binary_crossentropy',optimizer='adam',metrics=['accuracy'])\n",
    "print(nnmodel.summary())"
   ]
  },
  {
   "cell_type": "code",
   "execution_count": null,
   "id": "a84b739e-7e7c-4659-aa4f-61f21a701ad2",
   "metadata": {},
   "outputs": [],
   "source": []
  }
 ],
 "metadata": {
  "kernelspec": {
   "display_name": "Python 3 (ipykernel)",
   "language": "python",
   "name": "python3"
  },
  "language_info": {
   "codemirror_mode": {
    "name": "ipython",
    "version": 3
   },
   "file_extension": ".py",
   "mimetype": "text/x-python",
   "name": "python",
   "nbconvert_exporter": "python",
   "pygments_lexer": "ipython3",
   "version": "3.10.5"
  }
 },
 "nbformat": 4,
 "nbformat_minor": 5
}
