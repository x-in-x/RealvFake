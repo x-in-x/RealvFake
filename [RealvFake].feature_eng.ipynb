{
 "cells": [
  {
   "cell_type": "code",
   "execution_count": 15,
   "id": "3a0a54f8-5041-4e27-a3c6-ebc06b76eb4a",
   "metadata": {},
   "outputs": [],
   "source": [
    "from pyspark.ml.feature import VectorAssembler, Word2Vec, HashingTF, IDF, Normalizer, MinMaxScaler\n",
    "\n",
    "from tensorflow.keras.utils import pad_sequences\n",
    "from tensorflow.random import set_seed as tf_seed"
   ]
  },
  {
   "cell_type": "markdown",
   "id": "e38fe5dd-6c3b-4ba3-8cb9-234e560bcd07",
   "metadata": {},
   "source": [
    "Spark feature extraction of DF:"
   ]
  },
  {
   "cell_type": "code",
   "execution_count": 8,
   "id": "254a3278-53d4-4192-adec-bc72921f73ef",
   "metadata": {},
   "outputs": [],
   "source": [
    "title_w2v = Word2Vec(inputCol='title_token',outputCol='title_vec',seed=3)\n",
    "text_w2v = Word2Vec(inputCol='textfiltered',outputCol='text_vec',seed=3)\n",
    "title_norm = Normalizer(inputCol='title_vec',outputCol='title_norm',p=1.0)\n",
    "text_norm = Normalizer(inputCol='text_vec',outputCol='text_norm',p=1.0)\n",
    "\n",
    "text_hash = HashingTF(inputCol='textfiltered',outputCol='text_hash',numFeatures=1000)\n",
    "\n",
    "pipeline_feat = Pipeline(stages=[title_w2v,text_w2v,title_norm,text_norm])\n",
    "pipeline_feat2 = Pipeline(stages=[text_hash])\n",
    "\n",
    "DF = pipeline_feat.fit(DF).transform(DF)\n",
    "DF = pipeline_feat2.fit(DF).transform(DF)"
   ]
  },
  {
   "cell_type": "markdown",
   "id": "3d680b95-eb01-487a-b15f-7dfa0620836c",
   "metadata": {},
   "source": [
    "Pandas feature extraction for neural network:"
   ]
  },
  {
   "cell_type": "code",
   "execution_count": 16,
   "id": "bdffdda3-0c43-4044-8c92-eaf52a5eb87e",
   "metadata": {},
   "outputs": [],
   "source": [
    "maxlength = 300\n",
    "\n",
    "tf_seed(11)\n",
    "\n",
    "train_numeric = tokenizer.texts_to_sequences(train_x.values)\n",
    "train_numeric_padded = pad_sequences(train_numeric, maxlen=maxlength)"
   ]
  },
  {
   "cell_type": "code",
   "execution_count": null,
   "id": "dcc45114-c389-4d5b-b8f6-1d275e26a0a6",
   "metadata": {},
   "outputs": [],
   "source": []
  }
 ],
 "metadata": {
  "kernelspec": {
   "display_name": "Python 3 (ipykernel)",
   "language": "python",
   "name": "python3"
  },
  "language_info": {
   "codemirror_mode": {
    "name": "ipython",
    "version": 3
   },
   "file_extension": ".py",
   "mimetype": "text/x-python",
   "name": "python",
   "nbconvert_exporter": "python",
   "pygments_lexer": "ipython3",
   "version": "3.10.5"
  }
 },
 "nbformat": 4,
 "nbformat_minor": 5
}
