{
 "cells": [
  {
   "cell_type": "code",
   "execution_count": 1,
   "id": "452eeea0-b471-4d7d-b938-42e1c55e9780",
   "metadata": {},
   "outputs": [],
   "source": [
    "import pandas as pd\n",
    "import numpy as np\n",
    "import matplotlib.pyplot as plt\n",
    "import seaborn as sns\n",
    "import scipy.stats\n",
    "\n",
    "from pyspark.sql import SparkSession"
   ]
  },
  {
   "cell_type": "code",
   "execution_count": 16,
   "id": "926e1bbf-2bad-4eff-a058-8207884f1a41",
   "metadata": {},
   "outputs": [],
   "source": [
    "sc=SparkSession.builder.getOrCreate()\n",
    "\n",
    "DF_True=sc.read.csv('True.csv',header=True,inferSchema=True)\n",
    "DF_Fake=sc.read.csv('Fake.csv',header=True,inferSchema=True)\n",
    "\n",
    "DF_True.createOrReplaceTempView('DF_True')\n",
    "DF_Fake.createOrReplaceTempView('DF_Fake')"
   ]
  },
  {
   "cell_type": "code",
   "execution_count": 11,
   "id": "3f40a50e-078c-4ab4-8331-4819943c8c41",
   "metadata": {},
   "outputs": [
    {
     "name": "stdout",
     "output_type": "stream",
     "text": [
      "DF_True Info:\n",
      " dimensions: (21417, 4)\n",
      " Columns: ['title', 'text', 'subject', 'date']\n",
      "DF_Fake Info:\n",
      " dimensions: (23489, 4)\n",
      " Columns: ['title', 'text', 'subject', 'date']\n"
     ]
    }
   ],
   "source": [
    "print('DF_True Info:\\n dimensions: (%d, %d)\\n Columns: %s' % (DF_True.count(),len(DF_True.columns),DF_True.columns))\n",
    "print('DF_Fake Info:\\n dimensions: (%d, %d)\\n Columns: %s' % (DF_Fake.count(),len(DF_Fake.columns),DF_Fake.columns))"
   ]
  },
  {
   "cell_type": "code",
   "execution_count": 23,
   "id": "7d5e243c-c804-4a42-b211-1309a62979bb",
   "metadata": {},
   "outputs": [
    {
     "name": "stdout",
     "output_type": "stream",
     "text": [
      "DF_True head\n",
      "\n",
      " [Row(title='As U.S. budget fight looms, Republicans flip their fiscal script', subject='politicsNews', date='December 31, 2017 '), Row(title='U.S. military to accept transgender recruits on Monday: Pentagon', subject='politicsNews', date='December 29, 2017 '), Row(title=\"Senior U.S. Republican senator: 'Let Mr. Mueller do his job'\", subject='politicsNews', date='December 31, 2017 '), Row(title='FBI Russia probe helped by Australian diplomat tip-off: NYT', subject='politicsNews', date='December 30, 2017 '), Row(title=\"Trump wants Postal Service to charge 'much more' for Amazon shipments\", subject='politicsNews', date='December 29, 2017 ')] \n",
      "\n",
      "DF_Fake head \n",
      "\n",
      " [Row(title=' Donald Trump Sends Out Embarrassing New Year’s Eve Message; This is Disturbing', subject='News', date='December 31, 2017'), Row(title=' Drunk Bragging Trump Staffer Started Russian Collusion Investigation', subject='News', date='December 31, 2017'), Row(title=' Sheriff David Clarke Becomes An Internet Joke For Threatening To Poke People ‘In The Eye’', subject='News', date='December 30, 2017'), Row(title=' Trump Is So Obsessed He Even Has Obama’s Name Coded Into His Website (IMAGES)', subject='News', date='December 29, 2017'), Row(title=' Pope Francis Just Called Out Donald Trump During His Christmas Speech', subject='News', date='December 25, 2017')]\n"
     ]
    }
   ],
   "source": [
    "# heads, excluding text\n",
    "print('DF_True head\\n\\n',\n",
    "DF_True[['title','subject','date']].head(5),\n",
    "'\\n\\nDF_Fake head \\n\\n',\n",
    "DF_Fake[['title','subject','date']].head(5))"
   ]
  },
  {
   "cell_type": "code",
   "execution_count": 42,
   "id": "b2e8ad30-b29e-42fd-a320-40c3cc69c346",
   "metadata": {},
   "outputs": [
    {
     "name": "stdout",
     "output_type": "stream",
     "text": [
      "DF_True subject count\n",
      "+--------------------+--------------+\n",
      "|             subject|count(subject)|\n",
      "+--------------------+--------------+\n",
      "|        politicsNews|         11209|\n",
      "|           worldnews|         10115|\n",
      "|\"\" Trump Jr. resp...|             2|\n",
      "|\"\" said Phil Orlando|             1|\n",
      "| Associates Up 83...|             1|\n",
      "|           Australia|             1|\n",
      "|\"\" according to t...|             1|\n",
      "| \"\" said Tom Vilsack|             1|\n",
      "|\"\" Petrocelli tol...|             1|\n",
      "| said Joseph Cassidy|             1|\n",
      "| U.S. beef hits C...|             1|\n",
      "|      if implemented|             1|\n",
      "|       Linda McMahon|             1|\n",
      "|\"\" he said during...|             1|\n",
      "| Pruitt decided n...|             1|\n",
      "| one of the lobby...|             1|\n",
      "|       nor will help|             1|\n",
      "| Poland: bit.ly/2...|             1|\n",
      "|\"\" Intel Chief Ex...|             1|\n",
      "|\"\" Mattis said in...|             1|\n",
      "+--------------------+--------------+\n",
      "only showing top 20 rows\n",
      "\n"
     ]
    }
   ],
   "source": [
    "# subject distribution, order by count descending?\n",
    "print('DF_True subject count')\n",
    "sc.sql('select subject, count(subject) from DF_True group by subject order by count(subject) desc').show()"
   ]
  },
  {
   "cell_type": "code",
   "execution_count": 41,
   "id": "e8af5f64-4014-47fe-afbd-f01bb11a5746",
   "metadata": {},
   "outputs": [
    {
     "name": "stdout",
     "output_type": "stream",
     "text": [
      "DF_Fake subject count\n",
      "+--------------------+--------------+\n",
      "|             subject|count(subject)|\n",
      "+--------------------+--------------+\n",
      "|                News|          8501|\n",
      "|            politics|          6525|\n",
      "|           left-news|          4216|\n",
      "|     Government News|          1543|\n",
      "|             US_News|           767|\n",
      "|         Middle-east|           762|\n",
      "|     fjs);}(document|           124|\n",
      "|               2017\"|            26|\n",
      "|               2016\"|            18|\n",
      "| 2016Featured ima...|             8|\n",
      "| i'm sure it wasn...|             8|\n",
      "|                   s|             7|\n",
      "|              2017 \"|             7|\n",
      "| 2017Ranking memb...|             7|\n",
      "| and?\"\" he says. ...|             6|\n",
      "| make it into art...|             5|\n",
      "| fry em like baco...|             5|\n",
      "|         in his mind|             4|\n",
      "|      2017So all day|             4|\n",
      "| 2017.@Delta empl...|             4|\n",
      "+--------------------+--------------+\n",
      "only showing top 20 rows\n",
      "\n"
     ]
    }
   ],
   "source": [
    "print('DF_Fake subject count')\n",
    "sc.sql('select subject, count(subject) from DF_Fake group by subject order by count(subject) desc').show()"
   ]
  },
  {
   "cell_type": "markdown",
   "id": "65517bca-1e71-453d-bad1-256297f6d5de",
   "metadata": {},
   "source": [
    "This could be good cause to simply ignore the subject column in our model later.\n",
    "\n",
    "Any NULL values?"
   ]
  },
  {
   "cell_type": "code",
   "execution_count": 22,
   "id": "2d8d6c30-b9bf-43e2-aa44-a60749edcf44",
   "metadata": {},
   "outputs": [
    {
     "name": "stdout",
     "output_type": "stream",
     "text": [
      "+-----+----+-------+----+\n",
      "|title|text|subject|date|\n",
      "+-----+----+-------+----+\n",
      "+-----+----+-------+----+\n",
      "\n",
      "+--------------------+----+-------+----+\n",
      "|               title|text|subject|date|\n",
      "+--------------------+----+-------+----+\n",
      "|                   \"|null|   null|null|\n",
      "|Ex-GOP Congressma...|null|   null|null|\n",
      "|                   \"|null|   null|null|\n",
      "|WATCH: Democratic...|null|   null|null|\n",
      "|                   \"|null|   null|null|\n",
      "|Trump Gets STOMPE...|null|   null|null|\n",
      "|                   \"|null|   null|null|\n",
      "|Donald Trump Gets...|null|   null|null|\n",
      "+--------------------+----+-------+----+\n",
      "\n"
     ]
    }
   ],
   "source": [
    "sc.sql('select * from DF_True where title is null or text is null or subject is null').show()\n",
    "sc.sql('select * from DF_Fake where title is null or text is null or subject is null').show()"
   ]
  },
  {
   "cell_type": "markdown",
   "id": "ca9fe187-0001-41f9-943a-c564be40ebf4",
   "metadata": {},
   "source": [
    "This could actually cause Tokenizer problems in a pipeline, but can be easily solved with an nafill command.  Also, note some of the titles simply have a single quotation mark.  Are there other titles that are very short?"
   ]
  },
  {
   "cell_type": "code",
   "execution_count": 23,
   "id": "3fffe8cc-94e9-487d-b0da-8f4fb4a27be0",
   "metadata": {},
   "outputs": [
    {
     "name": "stdout",
     "output_type": "stream",
     "text": [
      "+-----+\n",
      "|title|\n",
      "+-----+\n",
      "+-----+\n",
      "\n",
      "+-----+\n",
      "|title|\n",
      "+-----+\n",
      "|    \"|\n",
      "|    \"|\n",
      "|    \"|\n",
      "|    \"|\n",
      "+-----+\n",
      "\n"
     ]
    }
   ],
   "source": [
    "sc.sql('select title from DF_True where length(title)<=5').show()\n",
    "sc.sql('select title from DF_Fake where length(title)<=5').show()"
   ]
  },
  {
   "cell_type": "markdown",
   "id": "7f2182dc-2f34-4ae2-a969-75487b63826a",
   "metadata": {},
   "source": [
    "So we'll probably just remove these 4 records from the dataset since the rest of their rows are null as seen above.\n",
    "\n",
    "We could also look at word counts from the entirety of the text bodies.  In particular, we will look at word density.  We'll do this in Pandas since the files aren't too big."
   ]
  },
  {
   "cell_type": "code",
   "execution_count": 2,
   "id": "e323fb4b-97df-4b65-ab8c-bb0dbe98ebfd",
   "metadata": {},
   "outputs": [],
   "source": [
    "DF_True=pd.read_csv('True.csv')\n",
    "DF_Fake=pd.read_csv('Fake.csv')"
   ]
  },
  {
   "cell_type": "code",
   "execution_count": 3,
   "id": "26d21a29-2ac4-4567-baf2-91102e7bef37",
   "metadata": {
    "tags": []
   },
   "outputs": [],
   "source": [
    "# this cell may take a few minutes to run\n",
    "s=''\n",
    "# record number of total articles\n",
    "DF_True_size=DF_True.shape[0]\n",
    "# collect all words from all text bodies\n",
    "for article in range(DF_True_size):\n",
    "    s+=' '+str(DF_True['text'].iloc[article])\n",
    "# group them into a frequency dictionary\n",
    "d_True={}\n",
    "tokens=s.split()\n",
    "del s\n",
    "for word in tokens:\n",
    "    try:\n",
    "        d_True[word]+=1\n",
    "    except KeyError:\n",
    "        d_True[word]=1\n",
    "del tokens\n",
    "# replace word count with word density by dividing in place by total articles\n",
    "for key in d_True.keys():\n",
    "    d_True[key]/=DF_True_size\n",
    "# make list of the word densities\n",
    "D_True=list(d_True.items())\n",
    "# flip them so the density is first\n",
    "D_True=[tuple(reversed(t)) for t in D_True]\n",
    "# sort list by descending number\n",
    "D_True.sort(reverse=True)"
   ]
  },
  {
   "cell_type": "markdown",
   "id": "435fbb68-59ee-4d8e-a75f-30fc6a04b546",
   "metadata": {},
   "source": [
    "And we do the same for DF_Fake:"
   ]
  },
  {
   "cell_type": "code",
   "execution_count": 4,
   "id": "2b93b3b2-2d85-4297-9664-ae1172a1ff37",
   "metadata": {},
   "outputs": [],
   "source": [
    "# this cell may take a few minutes to run\n",
    "s=''\n",
    "# record number of total articles\n",
    "DF_Fake_size=DF_Fake.shape[0]\n",
    "# collect all words from all text bodies\n",
    "for article in range(DF_Fake_size):\n",
    "    s+=' '+str(DF_Fake['text'].iloc[article])\n",
    "# group them into a frequency dictionary\n",
    "d_Fake={}\n",
    "tokens=s.split()\n",
    "del s\n",
    "for word in tokens:\n",
    "    try:\n",
    "        d_Fake[word]+=1\n",
    "    except KeyError:\n",
    "        d_Fake[word]=1\n",
    "del tokens\n",
    "# replace word count with word density by dividing in place by total articles\n",
    "for key in d_Fake.keys():\n",
    "    d_Fake[key]/=DF_Fake_size\n",
    "# make list of the word densities\n",
    "D_Fake=list(d_Fake.items())\n",
    "# flip them so the density is first\n",
    "D_Fake=[tuple(reversed(t)) for t in D_Fake]\n",
    "# sort list by descending number\n",
    "D_Fake.sort(reverse=True)"
   ]
  },
  {
   "cell_type": "code",
   "execution_count": 15,
   "id": "acd1e6dc-4664-4743-b826-176a13f0e561",
   "metadata": {
    "tags": []
   },
   "outputs": [
    {
     "name": "stdout",
     "output_type": "stream",
     "text": [
      "DF_True word density:                 DF_Fake word density:\n",
      "\n",
      "(19.733015828547416, 'the')             (20.57846769728717, 'the')\n",
      "(11.382873418312556, 'to')             (12.181252927899152, 'to')\n",
      "(9.540972124947471, 'of')             (9.931135811933052, 'of')\n",
      "(8.741373675117897, 'a')             (9.073676589583068, 'and')\n",
      "(8.377036933277303, 'and')             (8.639751288275628, 'a')\n",
      "(7.91604799925293, 'in')             (6.509092457731783, 'in')\n",
      "(4.89363589671756, 'on')             (5.894808568629956, 'that')\n",
      "(3.8526404258299483, 'that')             (5.435075167156424, 's')\n",
      "(3.6357566419199703, 'for')             (4.495336655168008, 'is')\n",
      "(3.362982677312415, 'said')             (3.7642775009582214, 'for')\n",
      "(2.5731428304617827, 'The')             (3.2771602572292493, 'on')\n",
      "(2.5425596488770603, 'is')             (2.829095864741706, 'was')\n",
      "(2.475510108792081, 'with')             (2.7615518930198886, 'Trump')\n",
      "(2.229117056543867, 'was')             (2.64788552446659, 'he')\n",
      "(2.1902227202689453, 'by')             (2.5838763255397983, 'with')\n",
      "(2.148573563057384, 'has')             (2.3780929261956474, 'his')\n",
      "(2.1096325349021807, 'as')             (2.296963502406201, 'it')\n",
      "(2.084232152028762, 's')             (2.1950087304629275, 'as')\n",
      "(2.0307699491058506, 'he')             (2.022188152122993, 'be')\n",
      "(1.8188355045057665, 'from')             (1.9501298922533112, 'by')\n",
      "(1.7869449502731476, 'U.S.')             (1.9271751628976619, 'have')\n",
      "(1.7024326469626931, 'Trump')             (1.8938290532771176, 'are')\n",
      "(1.6910865200541625, 'his')             (1.8079724032196243, 'I')\n",
      "(1.6884717747583695, 'have')             (1.7791831693709808, 'has')\n",
      "(1.6425736564411448, 'not')             (1.7474553894638218, 'not')\n",
      "(1.5839286548069291, 'it')             (1.74711468847153, 'this')\n",
      "(1.5832749684829808, 'be')             (1.7305055150973128, 'who')\n",
      "(1.4628566092356539, 'would')             (1.70891358971083, 'The')\n",
      "(1.457953961806042, 'an')             (1.6788467271410927, 't')\n",
      "(1.4502031096792267, '-')             (1.677654273668072, 'from')\n",
      "(1.4426857169538216, 'at')             (1.630083897619352, 'at')\n",
      "(1.2719802026427605, 'who')             (1.575997615093054, 'they')\n",
      "(1.2036232899098847, 'are')             (1.4469571142625952, 'an')\n",
      "(1.1938179950506607, 'had')             (1.349218517098931, 'about')\n",
      "(1.1580520147546343, 'will')             (1.2954303479408884, 'you')\n",
      "(1.007704160246533, 'said.')             (1.2596141561262297, 'their')\n",
      "(0.9916888453098006, '(Reuters)')             (1.1183935948213448, 'we')\n",
      "(0.9789419619928095, 'its')             (1.001788680209531, 'or')\n",
      "(0.9661016949152542, 'which')             (0.9961671138367191, 'her')\n",
      "(0.9123593407106504, 'been')             (0.9891401558707039, 'but')\n",
      "(0.8773871223794182, 'were')             (0.9830501256334909, 'will')\n",
      "(0.8464304057524397, 'but')             (0.98053745581534, 'would')\n",
      "(0.8330298361115002, 'after')             (0.9681870448447681, 'been')\n",
      "(0.8303683989354251, 'they')             (0.9056684127592521, 'people')\n",
      "(0.7989914553859084, 'President')             (0.9046037221583408, 'were')\n",
      "(0.7840033618153803, 'about')             (0.8991099186576381, 'said')\n",
      "(0.7699491058504926, 'their')             (0.8661896852774583, 'she')\n",
      "(0.7499649810897885, 'this')             (0.866061922405349, 'all')\n",
      "(0.7382920110192838, 'more')             (0.8610791703930838, 'out')\n",
      "(0.7332025960685437, 'also')             (0.856990758485584, 'what')\n",
      "(0.7017789606387449, 'United')             (0.8537540990588135, 'had')\n",
      "(0.7008451230331045, 'or')             (0.810740598781994, 'one')\n",
      "(0.6848298080963721, 'government')             (0.7902985392444956, 'just')\n",
      "(0.6764252696456087, 'Republican')             (0.7759039223201738, 'more')\n",
      "(0.6638651538497455, 'told')             (0.7745837059750437, 'our')\n",
      "(0.6360367932016622, 'House')             (0.7672586346407734, 'can')\n",
      "(0.6339823504692534, 'could')             (0.7540138835654359, 'when')\n",
      "(0.6233366017649531, 'over')             (0.7133852902346578, 'Donald')\n",
      "(0.5463883830601858, 'people')             (0.709935692687705, 'which')\n",
      "(0.5407853574263436, 'Trump’s')             (0.6947744985307269, 'like')\n",
      "(0.5400849792221133, 'last')             (0.6844257058898684, 'It')\n",
      "(0.526917868982584, 'than')             (0.6782079127805459, 'Obama')\n",
      "(0.5155717420740533, 'I')             (0.6733955112644265, 'up')\n",
      "(0.5125834617360041, 'we')             (0.6657723265619011, 'if')\n",
      "(0.507494046785264, 'against')             (0.6613006260380734, 'Clinton')\n",
      "(0.5017509455105758, 'other')             (0.646948596737788, 'President')\n",
      "(0.48139328570761547, 'two')             (0.6320855159490651, 'no')\n",
      "(0.4812999019470514, 'some')             (0.6222477747966441, 'also')\n",
      "(0.47919876733436056, 'Donald')             (0.6212682594438056, 'He')\n",
      "(0.4790119998132325, 'one')             (0.6057237766704996, 'so')\n",
      "(0.4786851566512583, 'up')             (0.6055960137983902, 'after')\n",
      "(0.4629966848765, 'In')             (0.590605170137558, 'because')\n",
      "(0.46243638231311573, 'former')             (0.5793194497678974, 'than')\n",
      "(0.45141709856655926, 'into')             (0.5640304927388101, 'into')\n",
      "(0.44810197506653593, 'out')             (0.5518930198884204, 'there')\n",
      "(0.4463743754961012, 'her')             (0.5512116179038371, 'over')\n",
      "(0.43829668020731194, 'A')             (0.5471232059963375, 'do')\n",
      "(0.43824998832702994, 'she')             (0.5369021762275883, 'him')\n",
      "(0.43460802166503243, 'new')             (0.5327711766960521, 'Hillary')\n",
      "(0.42802446654526777, 'if')             (0.5287679400366253, 'other')\n",
      "(0.4263435588551151, 'no')             (0.5275754865636046, 'even')\n",
      "(0.42620348321426904, 'when')             (0.5184191473957668, 'only')\n",
      "(0.4228883597142457, 'state')             (0.5118606532941528, 'how')\n",
      "(0.4225615165522716, 'He')             (0.5002768195562369, 'being')\n",
      "(0.4218611383480413, 'North')             (0.46884715301733315, 'any')\n",
      "(0.4056123640098987, 'States')             (0.46782505004045827, 'We')\n",
      "(0.40509875332679646, 'any')             (0.46203313317150035, 're')\n",
      "(0.3955736097492646, 'White')             (0.45692261828712577, 'against')\n",
      "(0.37675678199561097, 'including')             (0.44670158851837655, 'should')\n",
      "(0.3720875939674091, 'percent')             (0.44435926919637153, 'some')\n",
      "(0.37087360508007655, 'all')             (0.4421021251224394, 'them')\n",
      "(0.37078022131951255, 'It')             (0.4352881052766066, 'get')\n",
      "(0.3665312602138488, 'presidential')             (0.4341808270516588, 'This')\n",
      "(0.36634449269272074, 'campaign')             (0.41867893190238914, 'could')\n",
      "(0.36485035252369613, 'But')             (0.4054767684510881, 'American')\n",
      "(0.35962086193211, 'Senate')             (0.4036455006175205, 'In')\n",
      "(0.3588737918475977, 'between')             (0.40317703675311956, 'going')\n",
      "(0.3569594247560349, 'Democratic')             (0.4016012946637707, 'its')\n",
      "(0.35509174954475414, 'first')             (0.39180614113538603, 'time')\n",
      "(0.34439930896017185, 'since')             (0.3853328222818449, 'via')\n"
     ]
    }
   ],
   "source": [
    "# print top 100 word densities from DF_True and DF_Fake\n",
    "print('DF_True word density:                 DF_Fake word density:\\n')\n",
    "for topword in range(100):\n",
    "    print(D_True[topword],'           ',D_Fake[topword])"
   ]
  },
  {
   "cell_type": "markdown",
   "id": "85694369-fc74-46eb-b597-b92b7f08afc6",
   "metadata": {},
   "source": [
    "Nothing in particular stands out here other than that both articles use similar words (and thus are likely written in the same language, which we of course know is true).  We can check correlations in a minute, but let us first also check 'distinct' word densities, whereby each word is only counted at most once per article.  So while the 'word density' above shows the expected occurrences per article, the 'distinct word density' below will show the expected chance of it occurring at least once in the article."
   ]
  },
  {
   "cell_type": "code",
   "execution_count": 5,
   "id": "b5b33c80-3e63-4c59-a063-9b242ce2f4a1",
   "metadata": {},
   "outputs": [],
   "source": [
    "d_T_distinct={}\n",
    "for article in range(DF_True_size):\n",
    "    wordset=set() # use sets so words get added only once per article\n",
    "    words=DF_True['text'].iloc[article].split()\n",
    "    for word in words:\n",
    "        wordset.add(word)\n",
    "    for word in wordset: # then add tally from the set\n",
    "        try:\n",
    "            d_T_distinct[word]+=1\n",
    "        except KeyError:\n",
    "            d_T_distinct[word]=1\n",
    "    del wordset, words\n",
    "# replace distinct word count with distinct word density by dividing in place by total articles\n",
    "for key in d_T_distinct.keys():\n",
    "    d_T_distinct[key]/=DF_True_size\n",
    "# make list of the distinct word densities\n",
    "D_T_distinct=list(d_T_distinct.items())\n",
    "# flip them so the density is first\n",
    "D_T_distinct=[tuple(reversed(t)) for t in D_T_distinct]\n",
    "# sort list by descending number\n",
    "D_T_distinct.sort(reverse=True)"
   ]
  },
  {
   "cell_type": "code",
   "execution_count": 6,
   "id": "c07f4f1b-3bd5-49f1-9d39-e19cc1dc4742",
   "metadata": {},
   "outputs": [],
   "source": [
    "d_F_distinct={}\n",
    "for article in range(DF_Fake_size):\n",
    "    wordset=set() # use sets so words get added only once per article\n",
    "    words=DF_Fake['text'].iloc[article].split()\n",
    "    for word in words:\n",
    "        wordset.add(word)\n",
    "    for word in wordset: # then add tally from the set\n",
    "        try:\n",
    "            d_F_distinct[word]+=1\n",
    "        except KeyError:\n",
    "            d_F_distinct[word]=1\n",
    "    del wordset, words\n",
    "# replace distinct word count with distinct word density by dividing in place by total articles\n",
    "for key in d_F_distinct.keys():\n",
    "    d_F_distinct[key]/=DF_Fake_size\n",
    "# make list of the distinct word densities\n",
    "D_F_distinct=list(d_F_distinct.items())\n",
    "# flip them so the density is first\n",
    "D_F_distinct=[tuple(reversed(t)) for t in D_F_distinct]\n",
    "# sort list by descending number\n",
    "D_F_distinct.sort(reverse=True)"
   ]
  },
  {
   "cell_type": "code",
   "execution_count": 11,
   "id": "3f75e283-81a6-4e6a-80c6-5c2380758c2b",
   "metadata": {},
   "outputs": [
    {
     "name": "stdout",
     "output_type": "stream",
     "text": [
      "DF_True distinct word density:        DF_False distinct word density:\n",
      "\n",
      "(0.9986459354718215, '-')             (0.94365657339977, 'the')\n",
      "(0.9938833636830555, 'the')             (0.9303266470763596, 'to')\n",
      "(0.9915954615492366, '(Reuters)')             (0.9217665346450321, 'of')\n",
      "(0.9894943269365457, 'on')             (0.9178484732336782, 'and')\n",
      "(0.9672689919223048, 'a')             (0.9148673395511264, 'a')\n",
      "(0.9666153055983564, 'to')             (0.8983859290490184, 'in')\n",
      "(0.953214735957417, 'of')             (0.8824581576593842, 's')\n",
      "(0.9494793855348554, 'in')             (0.8651675823005834, 'that')\n",
      "(0.9366391184573003, 'and')             (0.8543503257953239, 'is')\n",
      "(0.8985852360274548, 'said')             (0.838167028661471, 'for')\n",
      "(0.8391931643087267, 'that')             (0.8319066479281121, 'on')\n",
      "(0.8191623476677405, 'for')             (0.7781610663941059, 'with')\n",
      "(0.7909137600971191, 'The')             (0.7249265363485371, 'it')\n",
      "(0.7597235840687304, 'with')             (0.7044418891870022, 'was')\n",
      "(0.7458094037446888, 'is')             (0.6994165495507005, 'be')\n",
      "(0.73404304991362, 'by')             (0.6890251692858056, 'as')\n",
      "(0.7166269785684269, 'was')             (0.6823814999361185, 'by')\n",
      "(0.699724517906336, 'as')             (0.6803372939823688, 'have')\n",
      "(0.6943082597936219, 'has')             (0.6728418721519527, 'this')\n",
      "(0.6744175187934818, 'from')             (0.6705847280780205, 'The')\n",
      "(0.6516785730961386, 'an')             (0.6580213789872663, 'has')\n",
      "(0.6485969089975253, 'not')             (0.656403049273881, 'who')\n",
      "(0.6427137320819909, 'have')             (0.6532089774711469, 'not')\n",
      "(0.6291263949199234, 'be')             (0.650696307652996, 'at')\n",
      "(0.6257645795396181, 'it')             (0.6495890294280482, 'from')\n",
      "(0.623056450483261, 'at')             (0.6409863293726843, 'are')\n",
      "(0.6075080543493486, 'he')             (0.6358758144883097, 'his')\n",
      "(0.5913993556520521, 'U.S.')             (0.6327669179336485, 'he')\n",
      "(0.5584815800532288, 'would')             (0.62241812529279, 't')\n",
      "(0.5387776065742167, 'who')             (0.6172224351603424, 'an')\n",
      "(0.5381239202502685, 'President')             (0.5875388612069332, 'about')\n",
      "(0.5300929168417612, 'are')             (0.572164728929773, 'they')\n",
      "(0.5288789279544287, 'said.')             (0.5213576934542822, 'but')\n",
      "(0.5288322360741468, 'had')             (0.5118180656701162, 'their')\n",
      "(0.5281318578699165, 'his')             (0.5041097057195179, 'Trump')\n",
      "(0.524629966848765, 'which')             (0.4904816660278523, 'been')\n",
      "(0.5154316664332073, 'will')             (0.48890592393850346, 'out')\n",
      "(0.4961012279964514, 'after')             (0.47642775009582217, 'I')\n",
      "(0.4850352523696129, 'been')             (0.46441804011754184, 'we')\n",
      "(0.48115982630620535, 'but')             (0.46382181338103146, 'or')\n",
      "(0.46808609982724003, 'its')             (0.46352370001277626, 'all')\n",
      "(0.448288742587664, 'also')             (0.4591371747370214, 'what')\n",
      "(0.44203203062987345, 'were')             (0.458626123248584, 'just')\n",
      "(0.4406312742214129, 'this')             (0.4585835356245475, 'you')\n",
      "(0.43367418405939206, 'Donald')             (0.4553894638218134, 'one')\n",
      "(0.4307792874819069, 'told')             (0.4550487628295217, 'would')\n",
      "(0.4219078302283233, 's')             (0.44636088752608494, 'when')\n",
      "(0.4148106644254564, 'about')             (0.43656573399770027, 'said')\n",
      "(0.4147639725451744, 'they')             (0.43507516715642436, 'will')\n",
      "(0.41070177896063875, 'their')             (0.4343511775478046, 'people')\n",
      "(0.4017836298267731, 'Trump')             (0.42447084877134705, 'can')\n",
      "(0.39944903581267216, 'more')             (0.4158255610919467, 'more')\n",
      "(0.3929121725731895, 'or')             (0.41246113879306673, 'had')\n",
      "(0.3898772003548583, 'over')             (0.409863293726843, 'It')\n",
      "(0.36466358500256807, 'last')             (0.4095225927345513, 'up')\n",
      "(0.36027454825605826, 'could')             (0.4078616753971296, 'were')\n",
      "(0.34099080169958446, 'government')             (0.40628593330778073, 'like')\n",
      "(0.33618153803053646, 'United')             (0.3912950896469486, 'if')\n",
      "(0.33529439230517816, 'than')             (0.3897619351816362, 'which')\n",
      "(0.3341737871784097, 'other')             (0.3826923895915847, 'Donald')\n",
      "(0.32254750898818696, 'up')             (0.37745411183510075, 'so')\n",
      "(0.32007283933323993, 'one')             (0.3738767514160385, 'no')\n",
      "(0.31955922865013775, 'two')             (0.3693624632681743, 'also')\n",
      "(0.3190456179670355, 'A')             (0.3693198756441378, 'after')\n",
      "(0.315310267544474, 'against')             (0.35475490822367023, 'our')\n",
      "(0.31348928421347527, 'In')             (0.35211447553340997, 'because')\n",
      "(0.3100340850726059, 'some')             (0.35002768195562367, 'than')\n",
      "(0.30643881029089043, 'people')             (0.34823900174609257, 'over')\n",
      "(0.3049913620021478, 'into')             (0.34372471359822837, 'into')\n",
      "(0.3036372974739693, 'WASHINGTON')             (0.33861419871385373, 'He')\n",
      "(0.3035906055936873, 'out')             (0.3367829308802862, 'do')\n",
      "(0.30111593593874025, 'when')             (0.33588859077552063, 'even')\n",
      "(0.2961199047485642, 'no')             (0.33524977641497383, 'only')\n",
      "(0.28379324835411124, 'we')             (0.3316724159959116, 'via')\n",
      "(0.28047812485408785, 'including')             (0.32937268429794303, 'other')\n",
      "(0.2802913573329598, 'if')             (0.32877645756143264, 'there')\n",
      "(0.27842368212167906, 'Republican')             (0.32609343724713596, 'being')\n",
      "(0.2745482560582715, 'any')             (0.3229845406924748, 'how')\n",
      "(0.27053275435401786, 'House')             (0.322729014948256, 'image')\n",
      "(0.2692253817061213, 'It')             (0.3147225416294025, 'President')\n",
      "(0.2674977821356866, 'all')             (0.3007112133214088, 'him')\n",
      "(0.26721763085399447, 'He')             (0.29798560538307567, 'her')\n",
      "(0.261007610776486, 'new')             (0.293897193475576, 'some')\n",
      "(0.2603539244525377, 'former')             (0.2926621523785188, 'any')\n",
      "(0.25815940607928284, 'since')             (0.29206592564200845, 'get')\n",
      "(0.25428398001587527, 'first')             (0.2884885652229462, 'This')\n",
      "(0.25292991548769667, 'between')             (0.28060985477620204, 'them')\n",
      "(0.2489611056637251, 'But')             (0.27882117456667094, 'should')\n",
      "(0.24882103002287903, 'before')             (0.2757974532600826, 'time')\n",
      "(0.24793388429752067, 'I')             (0.2757122780120097, 'We')\n",
      "(0.24774711677639258, 'did')             (0.274519824538989, 'she')\n",
      "(0.2392025026847831, 'what')             (0.2727737319534943, 'against')\n",
      "(0.2382219731988607, 'there')             (0.2716664537285465, 'In')\n",
      "(0.23761497875519447, 'under')             (0.2706017631276351, 'could')\n",
      "(0.23663444926927207, 'can')             (0.26659852646820836, 're')\n",
      "(0.23658775738899004, 'state')             (0.2600826199906307, 'going')\n",
      "(0.2302843535509175, 'States')             (0.2586772283974277, 'make')\n",
      "(0.2256151655227156, 'during')             (0.2573995996763341, 'made')\n",
      "(0.22407433347340897, 'Trump’s')             (0.25275754865636046, 'very')\n",
      "(0.21903161040295094, 'presidential')             (0.25182062092755847, 'most')\n"
     ]
    }
   ],
   "source": [
    "# print top 100 distinct word densities from DF_True and DF_Fake\n",
    "print('DF_True distinct word density:        DF_Fake distinct word density:\\n')\n",
    "for topword in range(100):\n",
    "    print(D_T_distinct[topword],'           ',D_F_distinct[topword])"
   ]
  },
  {
   "cell_type": "markdown",
   "id": "8cd0ed1f-9c9e-4c10-8e10-64687806e3ce",
   "metadata": {},
   "source": [
    "One key thing that stands out here is that '(Reuters)' appears in 99% of the DF_True articles (along with '-'), but actually almost 0% of the DF_Fake articles:"
   ]
  },
  {
   "cell_type": "code",
   "execution_count": 12,
   "id": "66423aca-b987-4eaa-863a-9fefe132ca49",
   "metadata": {},
   "outputs": [
    {
     "name": "stdout",
     "output_type": "stream",
     "text": [
      "0.00034070099229164007 0.0018312678335675654\n"
     ]
    }
   ],
   "source": [
    "tallyreut=0\n",
    "tally_=0\n",
    "for article in range(DF_Fake_size):\n",
    "    if ' (Reuters) ' in DF_Fake['text'][article]:\n",
    "        tallyreut+=1\n",
    "    if ' - ' in DF_Fake['text'][article]:\n",
    "        tally_+=1\n",
    "print(tallyreut/DF_Fake_size, tally_/DF_Fake_size)\n"
   ]
  },
  {
   "cell_type": "markdown",
   "id": "58572753-29fe-4690-bf2d-9028956c1f6b",
   "metadata": {},
   "source": [
    "So we may wish to remove these later to prevent obvious distinguishing factors for these specific datasets.  What if we look at correlations between density values of words that appear in both sets?  For this we need to first find the common words, and then ensure the density of the ith word is in the ith spot of the density datasets."
   ]
  },
  {
   "cell_type": "code",
   "execution_count": 7,
   "id": "84d9d895-1e36-472a-b117-79bc8c216d03",
   "metadata": {},
   "outputs": [
    {
     "name": "stdout",
     "output_type": "stream",
     "text": [
      "# of distinct words DF_True: 178503\n",
      "# of distinct words DF_Fake: 293553\n",
      "# of distinct common words: 74575\n"
     ]
    }
   ],
   "source": [
    "Words_T = frozenset((D_True[n][1] for n in range(len(D_True))))\n",
    "Words_F = frozenset((D_Fake[n][1] for n in range(len(D_Fake))))\n",
    "\n",
    "# set intersection for common words\n",
    "Words = Words_T & Words_F\n",
    "\n",
    "print('# of distinct words DF_True: %d\\n# of distinct words DF_Fake: %d\\n# of distinct common words: %d' % (len(Words_T),len(Words_F),len(Words)))"
   ]
  },
  {
   "cell_type": "markdown",
   "id": "58c81927-0e3e-471e-808d-723b7b8938a3",
   "metadata": {},
   "source": [
    "Let's look at word densities and distinct words densities for words that appear in both classes of articles.  We'll build triples of the form (density in True articles, word, density in Fake articles) and (distinct density in True, word, distinct density in Fake)."
   ]
  },
  {
   "cell_type": "code",
   "execution_count": 8,
   "id": "460fc13e-41d2-4ffd-9988-09774985e364",
   "metadata": {},
   "outputs": [
    {
     "name": "stdout",
     "output_type": "stream",
     "text": [
      "Common word densities:                                        Common word distinct densities:\n",
      "(19.733015828547416, 'the', 20.57846769728717)                  (0.9986459354718215, '-', 0.0018312678335675654)\n",
      "(11.382873418312556, 'to', 12.181252927899152)                  (0.9938833636830555, 'the', 0.94365657339977)\n",
      "(9.540972124947471, 'of', 9.931135811933052)                  (0.9915954615492366, '(Reuters)', 0.00034070099229164007)\n",
      "(8.741373675117897, 'a', 8.639751288275628)                  (0.9894943269365457, 'on', 0.8319066479281121)\n",
      "(8.377036933277303, 'and', 9.073676589583068)                  (0.9672689919223048, 'a', 0.9148673395511264)\n",
      "(7.91604799925293, 'in', 6.509092457731783)                  (0.9666153055983564, 'to', 0.9303266470763596)\n",
      "(4.89363589671756, 'on', 3.2771602572292493)                  (0.953214735957417, 'of', 0.9217665346450321)\n",
      "(3.8526404258299483, 'that', 5.894808568629956)                  (0.9494793855348554, 'in', 0.8983859290490184)\n",
      "(3.6357566419199703, 'for', 3.7642775009582214)                  (0.9366391184573003, 'and', 0.9178484732336782)\n",
      "(3.362982677312415, 'said', 0.8991099186576381)                  (0.8985852360274548, 'said', 0.43656573399770027)\n",
      "(2.5731428304617827, 'The', 1.70891358971083)                  (0.8391931643087267, 'that', 0.8651675823005834)\n",
      "(2.5425596488770603, 'is', 4.495336655168008)                  (0.8191623476677405, 'for', 0.838167028661471)\n",
      "(2.475510108792081, 'with', 2.5838763255397983)                  (0.7909137600971191, 'The', 0.6705847280780205)\n",
      "(2.229117056543867, 'was', 2.829095864741706)                  (0.7597235840687304, 'with', 0.7781610663941059)\n",
      "(2.1902227202689453, 'by', 1.9501298922533112)                  (0.7458094037446888, 'is', 0.8543503257953239)\n",
      "(2.148573563057384, 'has', 1.7791831693709808)                  (0.73404304991362, 'by', 0.6823814999361185)\n",
      "(2.1096325349021807, 'as', 2.1950087304629275)                  (0.7166269785684269, 'was', 0.7044418891870022)\n",
      "(2.084232152028762, 's', 5.435075167156424)                  (0.699724517906336, 'as', 0.6890251692858056)\n",
      "(2.0307699491058506, 'he', 2.64788552446659)                  (0.6943082597936219, 'has', 0.6580213789872663)\n",
      "(1.8188355045057665, 'from', 1.677654273668072)                  (0.6744175187934818, 'from', 0.6495890294280482)\n",
      "(1.7869449502731476, 'U.S.', 0.3345257868063541)                  (0.6516785730961386, 'an', 0.6172224351603424)\n",
      "(1.7024326469626931, 'Trump', 2.7615518930198886)                  (0.6485969089975253, 'not', 0.6532089774711469)\n",
      "(1.6910865200541625, 'his', 2.3780929261956474)                  (0.6427137320819909, 'have', 0.6803372939823688)\n",
      "(1.6884717747583695, 'have', 1.9271751628976619)                  (0.6291263949199234, 'be', 0.6994165495507005)\n",
      "(1.6425736564411448, 'not', 1.7474553894638218)                  (0.6257645795396181, 'it', 0.7249265363485371)\n",
      "(1.5839286548069291, 'it', 2.296963502406201)                  (0.623056450483261, 'at', 0.650696307652996)\n",
      "(1.5832749684829808, 'be', 2.022188152122993)                  (0.6075080543493486, 'he', 0.6327669179336485)\n",
      "(1.4628566092356539, 'would', 0.98053745581534)                  (0.5913993556520521, 'U.S.', 0.15868148715983135)\n",
      "(1.457953961806042, 'an', 1.4469571142625952)                  (0.5584815800532288, 'would', 0.4550487628295217)\n",
      "(1.4502031096792267, '-', 0.0026830203142966655)                  (0.5387776065742167, 'who', 0.656403049273881)\n",
      "(1.4426857169538216, 'at', 1.630083897619352)                  (0.5381239202502685, 'President', 0.3147225416294025)\n",
      "(1.2719802026427605, 'who', 1.7305055150973128)                  (0.5300929168417612, 'are', 0.6409863293726843)\n",
      "(1.2036232899098847, 'are', 1.8938290532771176)                  (0.5288789279544287, 'said.', 0.14241301477790555)\n",
      "(1.1938179950506607, 'had', 0.8537540990588135)                  (0.5288322360741468, 'had', 0.41246113879306673)\n",
      "(1.1580520147546343, 'will', 0.9830501256334909)                  (0.5281318578699165, 'his', 0.6358758144883097)\n",
      "(1.007704160246533, 'said.', 0.19624377155998468)                  (0.524629966848765, 'which', 0.3897619351816362)\n",
      "(0.9916888453098006, '(Reuters)', 0.00034070099229164007)                  (0.5154316664332073, 'will', 0.43507516715642436)\n",
      "(0.9789419619928095, 'its', 0.4016012946637707)                  (0.4961012279964514, 'after', 0.3693198756441378)\n",
      "(0.9661016949152542, 'which', 0.709935692687705)                  (0.4850352523696129, 'been', 0.4904816660278523)\n",
      "(0.9123593407106504, 'been', 0.9681870448447681)                  (0.48115982630620535, 'but', 0.5213576934542822)\n",
      "(0.8773871223794182, 'were', 0.9046037221583408)                  (0.46808609982724003, 'its', 0.20446318299902047)\n",
      "(0.8464304057524397, 'but', 0.9891401558707039)                  (0.448288742587664, 'also', 0.3693624632681743)\n",
      "(0.8330298361115002, 'after', 0.6055960137983902)                  (0.44203203062987345, 'were', 0.4078616753971296)\n",
      "(0.8303683989354251, 'they', 1.575997615093054)                  (0.4406312742214129, 'this', 0.6728418721519527)\n",
      "(0.7989914553859084, 'President', 0.646948596737788)                  (0.43367418405939206, 'Donald', 0.3826923895915847)\n",
      "(0.7840033618153803, 'about', 1.349218517098931)                  (0.4307792874819069, 'told', 0.24666751841914739)\n",
      "(0.7699491058504926, 'their', 1.2596141561262297)                  (0.4219078302283233, 's', 0.8824581576593842)\n",
      "(0.7499649810897885, 'this', 1.74711468847153)                  (0.4148106644254564, 'about', 0.5875388612069332)\n",
      "(0.7382920110192838, 'more', 0.7759039223201738)                  (0.4147639725451744, 'they', 0.572164728929773)\n",
      "(0.7332025960685437, 'also', 0.6222477747966441)                  (0.41070177896063875, 'their', 0.5118180656701162)\n"
     ]
    }
   ],
   "source": [
    "# create density datasets and sort by descending density\n",
    "# link the word with the density\n",
    "common=sorted(tuple((d_True[word],word,d_Fake[word]) for word in Words),reverse=True)\n",
    "common_dist=sorted(tuple((d_T_distinct[word],word,d_F_distinct[word]) for word in Words),reverse=True)\n",
    "\n",
    "print('Common word densities:                                        Common word distinct densities:')\n",
    "for n in range(50):\n",
    "    print(common[n],'                ',common_dist[n])\n",
    "\n",
    "# compare with above"
   ]
  },
  {
   "cell_type": "markdown",
   "id": "d1558b33-2d94-4627-82fa-0a3b8f8fccc9",
   "metadata": {},
   "source": [
    "Let's check out a bar graph of the top 10 common words:"
   ]
  },
  {
   "cell_type": "code",
   "execution_count": 23,
   "id": "a1a805cd-b79c-4422-8e81-82284a3860b7",
   "metadata": {},
   "outputs": [
    {
     "data": {
      "image/png": "[encoded data removed]",
      "text/plain": [
       "<Figure size 432x288 with 1 Axes>"
      ]
     },
     "metadata": {
      "needs_background": "light"
     },
     "output_type": "display_data"
    }
   ],
   "source": [
    "topwords = [triple[1] for triple in common[0:10]]\n",
    "true_densities = [triple[0] for triple in common[0:10]]\n",
    "fake_densities = [triple[2] for triple in common[0:10]]\n",
    "\n",
    "x=np.arange(10)\n",
    "plt.bar(x-.2,true_densities,width=.4,label='DF_True')\n",
    "plt.bar(x+.2,fake_densities,width=.4,label='DF_Fake')\n",
    "plt.xticks(ticks=x,labels=topwords)\n",
    "plt.legend(loc='upper right')\n",
    "plt.xlabel('Top 10 Words in Common')\n",
    "plt.ylabel('Word density')\n",
    "plt.show()"
   ]
  },
  {
   "cell_type": "markdown",
   "id": "c324b5e7-70f8-4c46-8c51-226c3f3df3fc",
   "metadata": {},
   "source": [
    "Let's check out the correlation in each of the two big columns above."
   ]
  },
  {
   "cell_type": "code",
   "execution_count": 26,
   "id": "900aa8d5-1c38-4b57-af5c-64c7b1e53028",
   "metadata": {},
   "outputs": [
    {
     "name": "stdout",
     "output_type": "stream",
     "text": [
      "PearsonRResult(statistic=0.971508119328221, pvalue=0.0)\n",
      "PearsonRResult(statistic=0.8867362764160239, pvalue=0.0)\n"
     ]
    }
   ],
   "source": [
    "# PearsonR test for correlation\n",
    "A=tuple(den[0] for den in common)\n",
    "B=tuple(den[2] for den in common)\n",
    "C=tuple(den[0] for den in common_dist)\n",
    "D=tuple(den[2] for den in common_dist)\n",
    "\n",
    "print(scipy.stats.pearsonr(A,B))\n",
    "print(scipy.stats.pearsonr(C,D))\n",
    "del A,B,C,D"
   ]
  },
  {
   "cell_type": "markdown",
   "id": "0e3d13da-b802-414d-8c37-5e4f40afba0a",
   "metadata": {},
   "source": [
    "There is incredibly strong correlation between the two datasets (DF_True and DF_Fake) as far as word densities of common words goes, but again, this is not surprising since whether an article is real or fake, it is still the same language, so word densities are highly likely to be correlated.\n",
    "\n",
    "This was still worth exploring though, since on the off-chance they weren't correlated, it could have rendered the classification problem trivial.\n",
    "\n",
    "As previously mentioned though (and as can be seen above), some words appear quite frequently in one set and not the other (i.e. '(Reuters)' and '-').  Are there more of these we should consider stripping so as to not make classification potentially trivial?  To determine this, we can look at the word densities of the symmetric difference of Words_T and Words_F defined above.\n",
    "\n",
    "We'll build two columns of triples of the form: (density, word, distinct density) -- one for the True-only words and one for the Fake-only words."
   ]
  },
  {
   "cell_type": "code",
   "execution_count": 12,
   "id": "3d428d6e-cb74-470d-961c-0e9c9c446c5c",
   "metadata": {
    "tags": []
   },
   "outputs": [
    {
     "name": "stdout",
     "output_type": "stream",
     "text": [
      "Densities for words that ONLY appear in True articles or Fake articles, but not both:\n",
      "Word density     DF_True word:     distinct density:               Word density   DF_Fake word:     distinct density:\n",
      "(0.5407853574263436, 'Trump’s', 0.22407433347340897)                  (0.08249222775861334, 'Via:', 0.07968144457220731)\n",
      "(0.18602045104356352, '“I', 0.12938320026147454)                  (0.05902644691452664, 'more:', 0.05740811720114135)\n",
      "(0.1557174207405332, '“The', 0.12350002334594014)                  (0.04620757207955368, 'Getty', 0.04569652059111622)\n",
      "(0.13377223700798432, '“We', 0.10547695755708082)                  (0.04373748988543929, 'AT:', 0.04254503641241855)\n",
      "(0.12149227249381332, '...', 0.09847317551477798)                  (0.04292832502874665, '2017@realDonaldTrump', 0.0054086282526297855)\n",
      "(0.09908016995844422, 'Obama’s', 0.06714292384554325)                  (0.04271538690856437, '21WIRE', 0.02874664622460713)\n",
      "(0.08726712424709343, 'don’t', 0.06690946444413316)                  (0.03407009922916401, 'Featured', 0.03402751160512755)\n",
      "(0.07447354904982023, 'Clinton’s', 0.036466358500256806)                  (0.03147225416294025, 'Reilly', 0.007708359950598356)\n",
      "(0.06317411402157165, 'it’s', 0.050427230704580474)                  (0.02772454324773221, '(see', 0.010433967888931476)\n",
      "(0.06046598496521455, '“This', 0.05448942428911612)                  (0.024615646693070994, 'Bundy', 0.006473318853541161)\n",
      "(0.0554232618947565, '“It', 0.0500070037820423)                  (0.024189770452706445, 'FilesSUPPORT', 0.024189770452706445)\n",
      "(0.04711210720455713, '“It’s', 0.04108885464817668)                  (0.0233806055960138, '2017The', 0.020016183297133852)\n",
      "(0.046458420880608864, '“If', 0.042209459774945134)                  (0.022571440739321155, '@21WIRE.TV', 0.022571440739321155)\n",
      "(0.04529112387355839, 'state’s', 0.0305364897044404)                  (0.021123461522081683, 'BECOME', 0.021123461522081683)\n",
      "(0.043703599943969745, 'party’s', 0.033197926880515476)                  (0.020740172905753588, 'SUBSCRIBE', 0.020740172905753588)\n",
      "(0.03926787131717794, 'president’s', 0.031657094831208855)                  (0.020612410033644224, 'below:Featured', 0.020612410033644224)\n",
      "(0.03856749311294766, '“a', 0.034645375169258065)                  (0.019888420425024488, '|', 0.012605936714790681)\n",
      "(0.03651305038053882, 'we’re', 0.030303030303030304)                  (0.019590307056769302, 'ACR', 0.010008091648566926)\n",
      "(0.03506560209179624, 'Rakhine', 0.01213988887332493)                  (0.018781142200076657, 'Boiler', 0.009071163919764917)\n",
      "(0.03459868328897605, 'administration’s', 0.02908904141569781)                  (0.018142327839529834, 'Flickr', 0.018099740215493376)\n",
      "(0.0332446187607975, 'LONDON', 0.033197926880515476)                  (0.017801626847238194, 'Antifa', 0.007069545590051531)\n",
      "(0.03291777559882336, 'that’s', 0.027594901246673204)                  (0.017120224862654913, '//', 0.006090030237213066)\n",
      "(0.0322640892748751, '–', 0.01886351963393566)                  (0.016311060005962268, 'Images.', 0.015757420893488354)\n",
      "(0.03217070551431106, '“He', 0.026100761077648596)                  (0.014437204548358246, 'hilarious', 0.013031812955155231)\n",
      "(0.031143484148106644, 'I’m', 0.02460662090862399)                  (0.014394616924321792, 'Henningsen', 0.010391380264895021)\n",
      "(0.031003408507260587, '“There', 0.028388663211467526)                  (0.013798390187811422, 'Somodevilla/Getty', 0.013798390187811422)\n",
      "(0.02946257645795396, 'China’s', 0.015641779894476352)                  (0.013713214939738512, 'Pundit', 0.012818874834972956)\n",
      "(0.028388663211467526, 'Russia’s', 0.020777886725498435)                  (0.012307823346535497, '2016The', 0.011072782249478302)\n",
      "(0.026801139281878883, 'country’s', 0.024840080310034086)                  (0.011924534730207402, 'Apparently,', 0.011711596610025127)\n",
      "(0.026147452957930615, '“We’re', 0.023952934584675727)                  (0.011924534730207402, '2016@realDonaldTrump', 0.0018738554576040202)\n"
     ]
    }
   ],
   "source": [
    "# Take symmetric difference (XOR) of the two sets\n",
    "Words_sym = Words_T ^ Words_F\n",
    "\n",
    "# create density datasets and sort by descending density\n",
    "# link the word with the density again, but here we have to be careful since we don't know which \n",
    "# dictionary the word belongs to\n",
    "\n",
    "sym_T=[]\n",
    "sym_F=[]\n",
    "\n",
    "for word in Words_sym:\n",
    "    try:\n",
    "        sym_T.append((d_True[word],word,d_T_distinct[word]))\n",
    "    except KeyError:\n",
    "        sym_F.append((d_Fake[word],word,d_F_distinct[word]))\n",
    "        \n",
    "# so, we try to look for word in True dictionaries, else in Fake dictionaries if lookup error\n",
    "\n",
    "sym_T.sort(reverse=True)\n",
    "sym_F.sort(reverse=True)\n",
    "\n",
    "# again, note: here we sort by descending densities\n",
    "\n",
    "print('Densities for words that ONLY appear in True articles or Fake articles, but not both:')\n",
    "print('Word density     DF_True word:     distinct density:               Word density   DF_Fake word:     distinct density:')\n",
    "for n in range(30):\n",
    "    print(sym_T[n],'                ',sym_F[n])"
   ]
  },
  {
   "cell_type": "markdown",
   "id": "90503203-f6f1-46a9-868c-40051670948d",
   "metadata": {},
   "source": [
    "One word that stands out here is 'Trump's', which has a much higher density than any other word in either of the two columns.  What if we redo this assessment, but put distinct density first and order by distinct density?  For this, we just copy the previous cell and alter the ordering."
   ]
  },
  {
   "cell_type": "code",
   "execution_count": 13,
   "id": "7856fc52-4c61-4fc7-831f-06bb342b2ccf",
   "metadata": {},
   "outputs": [
    {
     "name": "stdout",
     "output_type": "stream",
     "text": [
      "Densities for words that ONLY appear in True articles or Fake articles, but not both:\n",
      "Distinct word density  DF_True word:   word density:               Distinct word density   DF_Fake word:     word density:\n",
      "(0.22407433347340897, 'Trump’s', 0.5407853574263436)                  (0.07968144457220731, 'Via:', 0.08249222775861334)\n",
      "(0.12938320026147454, '“I', 0.18602045104356352)                  (0.05740811720114135, 'more:', 0.05902644691452664)\n",
      "(0.12350002334594014, '“The', 0.1557174207405332)                  (0.04569652059111622, 'Getty', 0.04620757207955368)\n",
      "(0.10547695755708082, '“We', 0.13377223700798432)                  (0.04254503641241855, 'AT:', 0.04373748988543929)\n",
      "(0.09847317551477798, '...', 0.12149227249381332)                  (0.03402751160512755, 'Featured', 0.03407009922916401)\n",
      "(0.06714292384554325, 'Obama’s', 0.09908016995844422)                  (0.02874664622460713, '21WIRE', 0.04271538690856437)\n",
      "(0.06690946444413316, 'don’t', 0.08726712424709343)                  (0.024189770452706445, 'FilesSUPPORT', 0.024189770452706445)\n",
      "(0.05448942428911612, '“This', 0.06046598496521455)                  (0.022571440739321155, '@21WIRE.TV', 0.022571440739321155)\n",
      "(0.050427230704580474, 'it’s', 0.06317411402157165)                  (0.021123461522081683, 'BECOME', 0.021123461522081683)\n",
      "(0.0500070037820423, '“It', 0.0554232618947565)                  (0.020740172905753588, 'SUBSCRIBE', 0.020740172905753588)\n",
      "(0.042209459774945134, '“If', 0.046458420880608864)                  (0.020612410033644224, 'below:Featured', 0.020612410033644224)\n",
      "(0.04108885464817668, '“It’s', 0.04711210720455713)                  (0.020016183297133852, '2017The', 0.0233806055960138)\n",
      "(0.036466358500256806, 'Clinton’s', 0.07447354904982023)                  (0.018099740215493376, 'Flickr', 0.018142327839529834)\n",
      "(0.034645375169258065, '“a', 0.03856749311294766)                  (0.015757420893488354, 'Images.', 0.016311060005962268)\n",
      "(0.033197926880515476, 'party’s', 0.043703599943969745)                  (0.013798390187811422, 'Somodevilla/Getty', 0.013798390187811422)\n",
      "(0.033197926880515476, 'LONDON', 0.0332446187607975)                  (0.013031812955155231, 'hilarious', 0.014437204548358246)\n",
      "(0.031657094831208855, 'president’s', 0.03926787131717794)                  (0.012818874834972956, 'Pundit', 0.013713214939738512)\n",
      "(0.0305364897044404, 'state’s', 0.04529112387355839)                  (0.012605936714790681, '|', 0.019888420425024488)\n",
      "(0.030303030303030304, 'we’re', 0.03651305038053882)                  (0.011711596610025127, 'Apparently,', 0.011924534730207402)\n",
      "(0.02908904141569781, 'administration’s', 0.03459868328897605)                  (0.011243132745624121, 'Wong/Getty', 0.011243132745624121)\n",
      "(0.028388663211467526, '“There', 0.031003408507260587)                  (0.011115369873514757, 'Alternate', 0.011456070865806396)\n",
      "(0.027594901246673204, 'that’s', 0.03291777559882336)                  (0.011072782249478302, '2016The', 0.012307823346535497)\n",
      "(0.026100761077648596, '“He', 0.03217070551431106)                  (0.010817256505259571, 'SUBSCRIBING', 0.010817256505259571)\n",
      "(0.024840080310034086, 'country’s', 0.026801139281878883)                  (0.010817256505259571, 'BECOMING', 0.010817256505259571)\n",
      "(0.02460662090862399, 'I’m', 0.031143484148106644)                  (0.010774668881223116, '21WIRE.TV', 0.010774668881223116)\n",
      "(0.023952934584675727, '“We’re', 0.026147452957930615)                  (0.010433967888931476, '(see', 0.02772454324773221)\n",
      "(0.023392632021291496, '“the', 0.02544707475370033)                  (0.010391380264895021, 'Henningsen', 0.014394616924321792)\n",
      "(0.022692253817061213, '“I’m', 0.02507353971144418)                  (0.010263617392785657, 'WFB', 0.010433967888931476)\n",
      "(0.02236541065508708, 'doesn’t', 0.02591399355652052)                  (0.010008091648566926, 'ACR', 0.019590307056769302)\n",
      "(0.02101134612690853, 'can’t', 0.023906242704393704)                  (0.009709978280311742, '2017Trump', 0.011669008985988672)\n"
     ]
    }
   ],
   "source": [
    "Words_sym = Words_T ^ Words_F\n",
    "\n",
    "# create density datasets and sort by descending density\n",
    "# link the word with the density again, but here we have to be careful since we don't know which \n",
    "# dictionary the word belongs to\n",
    "\n",
    "sym_T=[]\n",
    "sym_F=[]\n",
    "\n",
    "for word in Words_sym:\n",
    "    try:\n",
    "        sym_T.append((d_T_distinct[word],word,d_True[word])) # <------- reordered here with distinct now first\n",
    "    except KeyError:\n",
    "        sym_F.append((d_F_distinct[word],word,d_Fake[word])) # <------- reordered here with distinct now first\n",
    "        \n",
    "# so, we try to look for word in True dictionaries, else in Fake dictionaries if lookup error\n",
    "\n",
    "sym_T.sort(reverse=True)\n",
    "sym_F.sort(reverse=True)\n",
    "\n",
    "# again, note: here we sort by descending densities\n",
    "\n",
    "print('Densities for words that ONLY appear in True articles or Fake articles, but not both:')\n",
    "print('Distinct word density  DF_True word:   word density:               Distinct word density   DF_Fake word:     word density:')\n",
    "for n in range(30):\n",
    "    print(sym_T[n],'                ',sym_F[n])"
   ]
  },
  {
   "cell_type": "markdown",
   "id": "5cc69f71-baea-4b94-bf63-9da6345fcb79",
   "metadata": {},
   "source": [
    "This gives even stronger evidence that we should remove 'Trump's', and maybe even '\"I', '\"The', and '\"We'...down to some threshold.  'Trump's' appears at least once in a whopping 22% of True articles, and 0% of the Fake articles (somewhat surprisingly, since they are often political in nature)."
   ]
  },
  {
   "cell_type": "markdown",
   "id": "6904ec2b-c8e9-4a02-8eae-3c91eec15c6a",
   "metadata": {},
   "source": [
    "Out of curiousity, how many such words were there from one group or the other?"
   ]
  },
  {
   "cell_type": "code",
   "execution_count": 39,
   "id": "52207e4e-245f-4522-8e68-139c2cedfa0a",
   "metadata": {},
   "outputs": [
    {
     "name": "stdout",
     "output_type": "stream",
     "text": [
      "103928\n",
      "218978\n"
     ]
    }
   ],
   "source": [
    "print(len(sym_T))\n",
    "print(len(sym_F))"
   ]
  },
  {
   "cell_type": "markdown",
   "id": "2316c1ae-ccda-471e-ad91-27a39f93ea1e",
   "metadata": {},
   "source": [
    "So we can see there are more than twice as many words unique to Fake articles than those unique to True ones.  Of course this makes sense too, as we can already see some SPAM-like words in the right column above.\n",
    "\n",
    "So we'll probably run algorithms on the text bodies with '(Reuters)', '-', 'Trump's', '\"I', '\"The', and '\"We' filtered out of the data."
   ]
  }
 ],
 "metadata": {
  "kernelspec": {
   "display_name": "Python 3 (ipykernel)",
   "language": "python",
   "name": "python3"
  },
  "language_info": {
   "codemirror_mode": {
    "name": "ipython",
    "version": 3
   },
   "file_extension": ".py",
   "mimetype": "text/x-python",
   "name": "python",
   "nbconvert_exporter": "python",
   "pygments_lexer": "ipython3",
   "version": "3.10.5"
  }
 },
 "nbformat": 4,
 "nbformat_minor": 5
}
