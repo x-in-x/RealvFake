{
 "cells": [
  {
   "cell_type": "code",
   "execution_count": 60,
   "id": "b9eb45a9-0583-4c6f-a086-06faa7e8f6c2",
   "metadata": {},
   "outputs": [],
   "source": [
    "from pyspark.ml.evaluation import BinaryClassificationEvaluator\n",
    "from pyspark.mllib.evaluation import MulticlassMetrics\n",
    "from sklearn.metrics import confusion_matrix\n",
    "import numpy as np\n",
    "import seaborn as sns\n",
    "import matplotlib.pyplot as plt"
   ]
  },
  {
   "cell_type": "markdown",
   "id": "56033d02-8168-4d48-883b-a1db42534c4f",
   "metadata": {},
   "source": [
    "Evaluation of Machine Learning Models:"
   ]
  },
  {
   "cell_type": "markdown",
   "id": "bb7a3d9f-6707-4156-bc29-ec1dd3e18290",
   "metadata": {},
   "source": [
    "Area under ROC curves:"
   ]
  },
  {
   "cell_type": "code",
   "execution_count": 20,
   "id": "943920b3-07f7-4e25-b3ab-d3aff8d4681d",
   "metadata": {},
   "outputs": [
    {
     "name": "stdout",
     "output_type": "stream",
     "text": [
      "LR, Word2Vec:  0.9892886758693183\n",
      "GBT, Word2Vec:  0.9578940242388466\n",
      "LR, HashingTF:  0.9822348545142507\n",
      "GBT, HashingTF:  0.9657035070853843\n"
     ]
    }
   ],
   "source": [
    "prediction_lr_word2vec = model_lr_word2vec.transform(DF_test)\n",
    "prediction_gbt_word2vec = model_gbt_word2vec.transform(DF_test)\n",
    "prediction_lr_hashtf = model_lr_hashtf.transform(DF_test)\n",
    "prediction_gbt_hashtf = model_gbt_hashtf.transform(DF_test)\n",
    "\n",
    "evaluator = BinaryClassificationEvaluator(labelCol='Truthness')\n",
    "\n",
    "print('LR, Word2Vec: ',evaluator.evaluate(prediction_lr_word2vec))\n",
    "print('GBT, Word2Vec: ',evaluator.evaluate(prediction_gbt_word2vec))\n",
    "print('LR, HashingTF: ',evaluator.evaluate(prediction_lr_hashtf))\n",
    "print('GBT, HashingTF: ',evaluator.evaluate(prediction_gbt_hashtf))"
   ]
  },
  {
   "cell_type": "markdown",
   "id": "a1c83b89-4858-400d-93eb-b77ab8c44393",
   "metadata": {},
   "source": [
    "Accuracy:"
   ]
  },
  {
   "cell_type": "code",
   "execution_count": 21,
   "id": "271a70f3-3f00-4c01-9b21-42b22ea7344d",
   "metadata": {},
   "outputs": [
    {
     "name": "stdout",
     "output_type": "stream",
     "text": [
      "Accuracy:\n",
      "\n",
      "LR, Word2Vec:  0.9510019819423035\n",
      "GBT, Word2Vec:  0.8816340013212949\n",
      "LR, HashingTF:  0.9241356529398811\n",
      "GBT, HashingTF:  0.9003523452983925\n"
     ]
    }
   ],
   "source": [
    "accuracy_lr_word2vec = prediction_lr_word2vec.filter(prediction_lr_word2vec.Truthness == prediction_lr_word2vec.prediction).count() / float(prediction_lr_word2vec.count())\n",
    "accuracy_gbt_word2vec = prediction_gbt_word2vec.filter(prediction_gbt_word2vec.Truthness == prediction_gbt_word2vec.prediction).count() / float(prediction_gbt_word2vec.count())\n",
    "accuracy_lr_hashtf = prediction_lr_hashtf.filter(prediction_lr_hashtf.Truthness == prediction_lr_hashtf.prediction).count() / float(prediction_lr_hashtf.count())\n",
    "accuracy_gbt_hashtf = prediction_gbt_hashtf.filter(prediction_gbt_hashtf.Truthness == prediction_gbt_hashtf.prediction).count() / float(prediction_gbt_hashtf.count())\n",
    "\n",
    "print('Accuracy:\\n')\n",
    "print('LR, Word2Vec: ', accuracy_lr_word2vec)\n",
    "print('GBT, Word2Vec: ', accuracy_gbt_word2vec)\n",
    "print('LR, HashingTF: ', accuracy_lr_hashtf)\n",
    "print('GBT, HashingTF: ', accuracy_gbt_hashtf)"
   ]
  },
  {
   "cell_type": "markdown",
   "id": "91f92532-dfd1-4e73-b276-5e337d073696",
   "metadata": {},
   "source": [
    "Accuracy on TestSet.csv:"
   ]
  },
  {
   "cell_type": "code",
   "execution_count": 24,
   "id": "2bf9422b-db16-4148-9d39-93672c94191e",
   "metadata": {},
   "outputs": [
    {
     "name": "stdout",
     "output_type": "stream",
     "text": [
      "+--------------------+---------+\n",
      "|                text|Truthness|\n",
      "+--------------------+---------+\n",
      "|Ime Udoka, head c...|        1|\n",
      "|The Artemis I roc...|        1|\n",
      "|Stefanos Tsitsipa...|        1|\n",
      "|Arguing that the ...|        0|\n",
      "|Addressing a rall...|        0|\n",
      "|Citing a lack of ...|        0|\n",
      "|California Gov. G...|        1|\n",
      "|Pete Antonacci, t...|        1|\n",
      "|An Arizona Superi...|        1|\n",
      "|The Department of...|        1|\n",
      "|Wyoming GOP Rep. ...|        1|\n",
      "|Rihanna will head...|        1|\n",
      "|A twelve-year-old...|        1|\n",
      "|Clicking back and...|        0|\n",
      "|Expressing shock ...|        0|\n",
      "|Saying those unab...|        0|\n",
      "|Assuring the nati...|        0|\n",
      "|Muttering in frus...|        0|\n",
      "|Wondering if anyo...|        0|\n",
      "|Having not yet co...|        0|\n",
      "+--------------------+---------+\n",
      "\n"
     ]
    }
   ],
   "source": [
    "TestSet = pd.read_csv('TestSet.csv')\n",
    "TestSetSpark = sc.createDataFrame(TestSet)\n",
    "TestSetSpark.show()"
   ]
  },
  {
   "cell_type": "code",
   "execution_count": 25,
   "id": "8e553421-76a1-4a49-a494-62619561a9c6",
   "metadata": {},
   "outputs": [],
   "source": [
    "# rerun entire pipelines for ML model testing on TestSet.csv\n",
    "testsetpipeline1 = Pipeline(stages=[textTokenizer,stopwords,text_w2v,text_norm])\n",
    "testsetpipeline2 = Pipeline(stages=[textTokenizer,stopwords,text_hash])\n",
    "\n",
    "TestSetSpark_mod1 = testsetpipeline1.fit(TestSetSpark).transform(TestSetSpark)\n",
    "TestSetSpark_mod2 = testsetpipeline2.fit(TestSetSpark).transform(TestSetSpark)\n",
    "\n",
    "prediction2_lr_word2vec = model_lr_word2vec.transform(TestSetSpark_mod1)\n",
    "prediction2_gbt_word2vec = model_gbt_word2vec.transform(TestSetSpark_mod1)\n",
    "prediction2_lr_hashtf = model_lr_hashtf.transform(TestSetSpark_mod2)\n",
    "prediction2_gbt_hashtf = model_gbt_hashtf.transform(TestSetSpark_mod2)"
   ]
  },
  {
   "cell_type": "code",
   "execution_count": 26,
   "id": "c33c7d5e-7259-4136-a169-c785b002844e",
   "metadata": {},
   "outputs": [
    {
     "name": "stdout",
     "output_type": "stream",
     "text": [
      "Accuracy:\n",
      "\n",
      "LR, Word2Vec:  0.5\n",
      "GBT, Word2Vec:  0.5\n",
      "LR, HashingTF:  0.6\n",
      "GBT, HashingTF:  0.45\n"
     ]
    }
   ],
   "source": [
    "accuracy2_lr_word2vec = prediction2_lr_word2vec.filter(prediction2_lr_word2vec.Truthness == prediction2_lr_word2vec.prediction).count() / float(prediction2_lr_word2vec.count())\n",
    "accuracy2_gbt_word2vec = prediction2_gbt_word2vec.filter(prediction2_gbt_word2vec.Truthness == prediction2_gbt_word2vec.prediction).count() / float(prediction2_gbt_word2vec.count())\n",
    "accuracy2_lr_hashtf = prediction2_lr_hashtf.filter(prediction2_lr_hashtf.Truthness == prediction2_lr_hashtf.prediction).count() / float(prediction2_lr_hashtf.count())\n",
    "accuracy2_gbt_hashtf = prediction2_gbt_hashtf.filter(prediction2_gbt_hashtf.Truthness == prediction2_gbt_hashtf.prediction).count() / float(prediction2_gbt_hashtf.count())\n",
    "\n",
    "print('Accuracy:\\n')\n",
    "print('LR, Word2Vec: ', accuracy2_lr_word2vec)\n",
    "print('GBT, Word2Vec: ', accuracy2_gbt_word2vec)\n",
    "print('LR, HashingTF: ', accuracy2_lr_hashtf)\n",
    "print('GBT, HashingTF: ', accuracy2_gbt_hashtf)"
   ]
  },
  {
   "cell_type": "markdown",
   "id": "8cb71068-5172-4870-9f9e-21576f27e8d2",
   "metadata": {},
   "source": [
    "So this is definitely not good."
   ]
  },
  {
   "cell_type": "code",
   "execution_count": 27,
   "id": "80d84d44-2f86-4627-af66-f570b7ece66c",
   "metadata": {},
   "outputs": [
    {
     "name": "stdout",
     "output_type": "stream",
     "text": [
      "+--------------------+---------+----------+\n",
      "|                text|Truthness|prediction|\n",
      "+--------------------+---------+----------+\n",
      "|Ime Udoka, head c...|        1|       1.0|\n",
      "|The Artemis I roc...|        1|       1.0|\n",
      "|Stefanos Tsitsipa...|        1|       1.0|\n",
      "|Arguing that the ...|        0|       1.0|\n",
      "|Addressing a rall...|        0|       1.0|\n",
      "|Citing a lack of ...|        0|       1.0|\n",
      "|California Gov. G...|        1|       1.0|\n",
      "|Pete Antonacci, t...|        1|       1.0|\n",
      "|An Arizona Superi...|        1|       1.0|\n",
      "|The Department of...|        1|       1.0|\n",
      "|Wyoming GOP Rep. ...|        1|       1.0|\n",
      "|Rihanna will head...|        1|       1.0|\n",
      "|A twelve-year-old...|        1|       1.0|\n",
      "|Clicking back and...|        0|       1.0|\n",
      "|Expressing shock ...|        0|       1.0|\n",
      "|Saying those unab...|        0|       1.0|\n",
      "|Assuring the nati...|        0|       1.0|\n",
      "|Muttering in frus...|        0|       1.0|\n",
      "|Wondering if anyo...|        0|       1.0|\n",
      "|Having not yet co...|        0|       1.0|\n",
      "+--------------------+---------+----------+\n",
      "\n",
      "+--------------------+---------+----------+\n",
      "|                text|Truthness|prediction|\n",
      "+--------------------+---------+----------+\n",
      "|Ime Udoka, head c...|        1|       1.0|\n",
      "|The Artemis I roc...|        1|       1.0|\n",
      "|Stefanos Tsitsipa...|        1|       1.0|\n",
      "|Arguing that the ...|        0|       1.0|\n",
      "|Addressing a rall...|        0|       1.0|\n",
      "|Citing a lack of ...|        0|       1.0|\n",
      "|California Gov. G...|        1|       1.0|\n",
      "|Pete Antonacci, t...|        1|       1.0|\n",
      "|An Arizona Superi...|        1|       1.0|\n",
      "|The Department of...|        1|       1.0|\n",
      "|Wyoming GOP Rep. ...|        1|       1.0|\n",
      "|Rihanna will head...|        1|       1.0|\n",
      "|A twelve-year-old...|        1|       1.0|\n",
      "|Clicking back and...|        0|       1.0|\n",
      "|Expressing shock ...|        0|       1.0|\n",
      "|Saying those unab...|        0|       1.0|\n",
      "|Assuring the nati...|        0|       1.0|\n",
      "|Muttering in frus...|        0|       1.0|\n",
      "|Wondering if anyo...|        0|       1.0|\n",
      "|Having not yet co...|        0|       1.0|\n",
      "+--------------------+---------+----------+\n",
      "\n",
      "+--------------------+---------+----------+\n",
      "|                text|Truthness|prediction|\n",
      "+--------------------+---------+----------+\n",
      "|Ime Udoka, head c...|        1|       1.0|\n",
      "|The Artemis I roc...|        1|       1.0|\n",
      "|Stefanos Tsitsipa...|        1|       0.0|\n",
      "|Arguing that the ...|        0|       0.0|\n",
      "|Addressing a rall...|        0|       0.0|\n",
      "|Citing a lack of ...|        0|       0.0|\n",
      "|California Gov. G...|        1|       0.0|\n",
      "|Pete Antonacci, t...|        1|       1.0|\n",
      "|An Arizona Superi...|        1|       1.0|\n",
      "|The Department of...|        1|       1.0|\n",
      "|Wyoming GOP Rep. ...|        1|       0.0|\n",
      "|Rihanna will head...|        1|       0.0|\n",
      "|A twelve-year-old...|        1|       1.0|\n",
      "|Clicking back and...|        0|       1.0|\n",
      "|Expressing shock ...|        0|       1.0|\n",
      "|Saying those unab...|        0|       1.0|\n",
      "|Assuring the nati...|        0|       1.0|\n",
      "|Muttering in frus...|        0|       0.0|\n",
      "|Wondering if anyo...|        0|       0.0|\n",
      "|Having not yet co...|        0|       0.0|\n",
      "+--------------------+---------+----------+\n",
      "\n",
      "+--------------------+---------+----------+\n",
      "|                text|Truthness|prediction|\n",
      "+--------------------+---------+----------+\n",
      "|Ime Udoka, head c...|        1|       1.0|\n",
      "|The Artemis I roc...|        1|       1.0|\n",
      "|Stefanos Tsitsipa...|        1|       0.0|\n",
      "|Arguing that the ...|        0|       0.0|\n",
      "|Addressing a rall...|        0|       1.0|\n",
      "|Citing a lack of ...|        0|       1.0|\n",
      "|California Gov. G...|        1|       1.0|\n",
      "|Pete Antonacci, t...|        1|       0.0|\n",
      "|An Arizona Superi...|        1|       1.0|\n",
      "|The Department of...|        1|       1.0|\n",
      "|Wyoming GOP Rep. ...|        1|       1.0|\n",
      "|Rihanna will head...|        1|       0.0|\n",
      "|A twelve-year-old...|        1|       1.0|\n",
      "|Clicking back and...|        0|       1.0|\n",
      "|Expressing shock ...|        0|       1.0|\n",
      "|Saying those unab...|        0|       1.0|\n",
      "|Assuring the nati...|        0|       1.0|\n",
      "|Muttering in frus...|        0|       0.0|\n",
      "|Wondering if anyo...|        0|       1.0|\n",
      "|Having not yet co...|        0|       1.0|\n",
      "+--------------------+---------+----------+\n",
      "\n"
     ]
    }
   ],
   "source": [
    "prediction2_lr_word2vec.select(['text','Truthness','prediction']).show()\n",
    "prediction2_gbt_word2vec.select(['text','Truthness','prediction']).show()\n",
    "prediction2_lr_hashtf.select(['text','Truthness','prediction']).show()\n",
    "prediction2_gbt_hashtf.select(['text','Truthness','prediction']).show()\n",
    "# this will show the entire tables, since there are only 20 articles"
   ]
  },
  {
   "cell_type": "markdown",
   "id": "24f69db9-ea3b-4fdc-9dd7-5a49076ef6c6",
   "metadata": {},
   "source": [
    "So the word2vec algorithms (first two tables) predicted everything True in TestSet.csv.  Perhaps the Onion articles were a little too difficult given the satirical and 'real-sounding' nature of them.\n",
    "\n",
    "The HashingTF algorithms did make different predictions.  In the LR Hashing case (third table), it predicted 6/10 True articles correct and 6/10 Fake articles correct.\n",
    "\n",
    "In the GBT Hashing case (fourth table), it predicted 7/10 True articles correctly but only 2/10 Fake articles correctly.  At least this case appears to have a good true positive rate."
   ]
  },
  {
   "cell_type": "markdown",
   "id": "e923e2d9-851c-4e6b-8ad6-d7de7ccceff5",
   "metadata": {},
   "source": [
    "Evaluation of Neural Network Model:"
   ]
  },
  {
   "cell_type": "markdown",
   "id": "f7bdb962-dec1-4060-8469-70cc1496da77",
   "metadata": {},
   "source": [
    "Accuracy on test subset:"
   ]
  },
  {
   "cell_type": "code",
   "execution_count": 22,
   "id": "46409bd4-9a12-4de8-9b50-d28c8dc75acb",
   "metadata": {},
   "outputs": [
    {
     "name": "stdout",
     "output_type": "stream",
     "text": [
      "281/281 [==============================] - 4s 11ms/step - loss: 0.0436 - accuracy: 0.9883\n"
     ]
    },
    {
     "data": {
      "text/plain": [
       "0.9883073568344116"
      ]
     },
     "execution_count": 22,
     "metadata": {},
     "output_type": "execute_result"
    }
   ],
   "source": [
    "test_numeric = tokenizer.texts_to_sequences(test_x)\n",
    "test_numeric_padded = pad_sequences(test_numeric,maxlen=maxlength)\n",
    "score = nnmodel.evaluate(test_numeric_padded,test_y)\n",
    "score[1]"
   ]
  },
  {
   "cell_type": "markdown",
   "id": "2e24f019-59a7-47a7-a600-953fe6a4462a",
   "metadata": {},
   "source": [
    "This is pretty good."
   ]
  },
  {
   "cell_type": "markdown",
   "id": "89ff5e7f-1d6f-4960-a8e3-ed2de7838b8a",
   "metadata": {},
   "source": [
    "Accuracy on TestSet.csv:"
   ]
  },
  {
   "cell_type": "code",
   "execution_count": 29,
   "id": "20435000-1bee-4a46-b216-4d1edd13b4b9",
   "metadata": {},
   "outputs": [
    {
     "name": "stdout",
     "output_type": "stream",
     "text": [
      "1/1 [==============================] - 0s 27ms/step - loss: 2.3347 - accuracy: 0.5500\n"
     ]
    },
    {
     "data": {
      "text/plain": [
       "0.550000011920929"
      ]
     },
     "execution_count": 29,
     "metadata": {},
     "output_type": "execute_result"
    }
   ],
   "source": [
    "testset_numeric = tokenizer.texts_to_sequences(TestSet['text'])\n",
    "testset_numeric_padded = pad_sequences(testset_numeric,maxlen=maxlength)\n",
    "score = nnmodel.evaluate(testset_numeric_padded,TestSet['Truthness'])\n",
    "score[1]"
   ]
  },
  {
   "cell_type": "markdown",
   "id": "418688d7-398b-425a-bb6a-62dc57249cee",
   "metadata": {},
   "source": [
    "This however, much like the ML models above with TestSet.csv, is not so good."
   ]
  },
  {
   "cell_type": "code",
   "execution_count": 35,
   "id": "08f8a875-6405-49c2-9126-483b26b42d08",
   "metadata": {},
   "outputs": [
    {
     "name": "stdout",
     "output_type": "stream",
     "text": [
      "1/1 [==============================] - 0s 24ms/step\n",
      "[[0.9990616 ]\n",
      " [0.99815124]\n",
      " [0.08657873]\n",
      " [0.949527  ]\n",
      " [0.04332609]\n",
      " [0.9990277 ]\n",
      " [0.9991571 ]\n",
      " [0.99926466]\n",
      " [0.9979581 ]\n",
      " [0.9990293 ]\n",
      " [0.9967133 ]\n",
      " [0.00583255]\n",
      " [0.00227563]\n",
      " [0.9967611 ]\n",
      " [0.9948659 ]\n",
      " [0.03549943]\n",
      " [0.99750704]\n",
      " [0.05245351]\n",
      " [0.12646621]\n",
      " [0.9970225 ]]\n",
      "0     1\n",
      "1     1\n",
      "2     1\n",
      "3     0\n",
      "4     0\n",
      "5     0\n",
      "6     1\n",
      "7     1\n",
      "8     1\n",
      "9     1\n",
      "10    1\n",
      "11    1\n",
      "12    1\n",
      "13    0\n",
      "14    0\n",
      "15    0\n",
      "16    0\n",
      "17    0\n",
      "18    0\n",
      "19    0\n",
      "Name: Truthness, dtype: int64\n"
     ]
    }
   ],
   "source": [
    "print(nnmodel.predict(testset_numeric_padded,verbose=1))\n",
    "print(TestSet['Truthness'])"
   ]
  },
  {
   "cell_type": "markdown",
   "id": "b607e3ca-47d3-4c9d-964a-2e0ae0236ef6",
   "metadata": {},
   "source": [
    "After carefully comparing the two tables, one can see that this model predicted 7/10 True articles correctly, but only 4/10 Fake articles correctly for TestSet.csv.  So it performed very similarly to the GBT Hashing model above."
   ]
  },
  {
   "cell_type": "markdown",
   "id": "4863afef-2f09-422e-b083-2267be66f866",
   "metadata": {},
   "source": [
    "In summary, True.csv consisting of Reuters articles only is likely biasing what the algorithms perceive as True.  In addition, many of the articles from Fake.csv appear to be op-ed style articles, and not necessarily articles with declaratively false elements (they are false in the sense that they are subjective and likely have a higher prevalence of adjectives).  These are likely easier to distinguish.  On the other hand, Onion articles from TestSet.csv, as satire, likely don't read as op-ed style articles.  They often make declaratively false statements and thus may be more difficult to distinguish from True articles which make declaratively true statements.\n",
    "\n",
    "So the models may be thinking: if news-style, then True; else if op-ed style, then Fake."
   ]
  },
  {
   "cell_type": "markdown",
   "id": "603485bd-6001-417e-bc83-c66d2b82a73a",
   "metadata": {},
   "source": [
    "Returning back to the original big set of data, here we will build a barplot to see the breakdown of the confusion matrix elements for the 5 models:"
   ]
  },
  {
   "cell_type": "code",
   "execution_count": 45,
   "id": "e202b9bb-eb1a-4ab4-b9a6-413f1ac9fe49",
   "metadata": {},
   "outputs": [
    {
     "name": "stdout",
     "output_type": "stream",
     "text": [
      "281/281 [==============================] - 3s 11ms/step\n"
     ]
    }
   ],
   "source": [
    "# first we build the confusion matrices for each model using confusionMatrix() from pyspark.mllib\n",
    "lr_word2vec_matrix = MulticlassMetrics(prediction_lr_word2vec.select('Truthness','prediction').rdd.map(tuple)).confusionMatrix().toArray()\n",
    "gbt_word2vec_matrix = MulticlassMetrics(prediction_gbt_word2vec.select('Truthness','prediction').rdd.map(tuple)).confusionMatrix().toArray()\n",
    "lr_hashtf_matrix = MulticlassMetrics(prediction_lr_hashtf.select('Truthness','prediction').rdd.map(tuple)).confusionMatrix().toArray()\n",
    "gbt_hashtf_matrix = MulticlassMetrics(prediction_gbt_hashtf.select('Truthness','prediction').rdd.map(tuple)).confusionMatrix().toArray()\n",
    "# use confusion_matrix from sklearn for NN model since this one was \"in memory\",\n",
    "# note: the data in nnmodel.predict is probabilities, so we round it with np.around for the prediction\n",
    "lstm_matrix = confusion_matrix(np.around(nnmodel.predict(test_numeric_padded)), test_y)"
   ]
  },
  {
   "cell_type": "code",
   "execution_count": 62,
   "id": "2c1504fd-b319-4e88-8caf-fc7355e8983b",
   "metadata": {},
   "outputs": [
    {
     "data": {
      "text/html": [
       "<div>\n",
       "<style scoped>\n",
       "    .dataframe tbody tr th:only-of-type {\n",
       "        vertical-align: middle;\n",
       "    }\n",
       "\n",
       "    .dataframe tbody tr th {\n",
       "        vertical-align: top;\n",
       "    }\n",
       "\n",
       "    .dataframe thead th {\n",
       "        text-align: right;\n",
       "    }\n",
       "</style>\n",
       "<table border=\"1\" class=\"dataframe\">\n",
       "  <thead>\n",
       "    <tr style=\"text-align: right;\">\n",
       "      <th></th>\n",
       "      <th>Category</th>\n",
       "      <th>Frequency</th>\n",
       "      <th>Model</th>\n",
       "    </tr>\n",
       "  </thead>\n",
       "  <tbody>\n",
       "    <tr>\n",
       "      <th>0</th>\n",
       "      <td>True Positives</td>\n",
       "      <td>4487.0</td>\n",
       "      <td>LR-Word2Vec</td>\n",
       "    </tr>\n",
       "    <tr>\n",
       "      <th>1</th>\n",
       "      <td>True Positives</td>\n",
       "      <td>4194.0</td>\n",
       "      <td>GBT-Word2Vec</td>\n",
       "    </tr>\n",
       "    <tr>\n",
       "      <th>2</th>\n",
       "      <td>True Positives</td>\n",
       "      <td>4213.0</td>\n",
       "      <td>LR-HashTF</td>\n",
       "    </tr>\n",
       "    <tr>\n",
       "      <th>3</th>\n",
       "      <td>True Positives</td>\n",
       "      <td>4284.0</td>\n",
       "      <td>GBT-HashTF</td>\n",
       "    </tr>\n",
       "    <tr>\n",
       "      <th>4</th>\n",
       "      <td>True Positives</td>\n",
       "      <td>4641.0</td>\n",
       "      <td>LSTM NN</td>\n",
       "    </tr>\n",
       "    <tr>\n",
       "      <th>5</th>\n",
       "      <td>False Positives</td>\n",
       "      <td>149.0</td>\n",
       "      <td>LR-Word2Vec</td>\n",
       "    </tr>\n",
       "    <tr>\n",
       "      <th>6</th>\n",
       "      <td>False Positives</td>\n",
       "      <td>486.0</td>\n",
       "      <td>GBT-Word2Vec</td>\n",
       "    </tr>\n",
       "    <tr>\n",
       "      <th>7</th>\n",
       "      <td>False Positives</td>\n",
       "      <td>119.0</td>\n",
       "      <td>LR-HashTF</td>\n",
       "    </tr>\n",
       "    <tr>\n",
       "      <th>8</th>\n",
       "      <td>False Positives</td>\n",
       "      <td>406.0</td>\n",
       "      <td>GBT-HashTF</td>\n",
       "    </tr>\n",
       "    <tr>\n",
       "      <th>9</th>\n",
       "      <td>False Positives</td>\n",
       "      <td>47.0</td>\n",
       "      <td>LSTM NN</td>\n",
       "    </tr>\n",
       "    <tr>\n",
       "      <th>10</th>\n",
       "      <td>False Negatives</td>\n",
       "      <td>296.0</td>\n",
       "      <td>LR-Word2Vec</td>\n",
       "    </tr>\n",
       "    <tr>\n",
       "      <th>11</th>\n",
       "      <td>False Negatives</td>\n",
       "      <td>589.0</td>\n",
       "      <td>GBT-Word2Vec</td>\n",
       "    </tr>\n",
       "    <tr>\n",
       "      <th>12</th>\n",
       "      <td>False Negatives</td>\n",
       "      <td>570.0</td>\n",
       "      <td>LR-HashTF</td>\n",
       "    </tr>\n",
       "    <tr>\n",
       "      <th>13</th>\n",
       "      <td>False Negatives</td>\n",
       "      <td>499.0</td>\n",
       "      <td>GBT-HashTF</td>\n",
       "    </tr>\n",
       "    <tr>\n",
       "      <th>14</th>\n",
       "      <td>False Negatives</td>\n",
       "      <td>58.0</td>\n",
       "      <td>LSTM NN</td>\n",
       "    </tr>\n",
       "    <tr>\n",
       "      <th>15</th>\n",
       "      <td>True Negatives</td>\n",
       "      <td>4150.0</td>\n",
       "      <td>LR-Word2Vec</td>\n",
       "    </tr>\n",
       "    <tr>\n",
       "      <th>16</th>\n",
       "      <td>True Negatives</td>\n",
       "      <td>3813.0</td>\n",
       "      <td>GBT-Word2Vec</td>\n",
       "    </tr>\n",
       "    <tr>\n",
       "      <th>17</th>\n",
       "      <td>True Negatives</td>\n",
       "      <td>4180.0</td>\n",
       "      <td>LR-HashTF</td>\n",
       "    </tr>\n",
       "    <tr>\n",
       "      <th>18</th>\n",
       "      <td>True Negatives</td>\n",
       "      <td>3893.0</td>\n",
       "      <td>GBT-HashTF</td>\n",
       "    </tr>\n",
       "    <tr>\n",
       "      <th>19</th>\n",
       "      <td>True Negatives</td>\n",
       "      <td>4234.0</td>\n",
       "      <td>LSTM NN</td>\n",
       "    </tr>\n",
       "  </tbody>\n",
       "</table>\n",
       "</div>"
      ],
      "text/plain": [
       "           Category  Frequency         Model\n",
       "0    True Positives     4487.0   LR-Word2Vec\n",
       "1    True Positives     4194.0  GBT-Word2Vec\n",
       "2    True Positives     4213.0     LR-HashTF\n",
       "3    True Positives     4284.0    GBT-HashTF\n",
       "4    True Positives     4641.0       LSTM NN\n",
       "5   False Positives      149.0   LR-Word2Vec\n",
       "6   False Positives      486.0  GBT-Word2Vec\n",
       "7   False Positives      119.0     LR-HashTF\n",
       "8   False Positives      406.0    GBT-HashTF\n",
       "9   False Positives       47.0       LSTM NN\n",
       "10  False Negatives      296.0   LR-Word2Vec\n",
       "11  False Negatives      589.0  GBT-Word2Vec\n",
       "12  False Negatives      570.0     LR-HashTF\n",
       "13  False Negatives      499.0    GBT-HashTF\n",
       "14  False Negatives       58.0       LSTM NN\n",
       "15   True Negatives     4150.0   LR-Word2Vec\n",
       "16   True Negatives     3813.0  GBT-Word2Vec\n",
       "17   True Negatives     4180.0     LR-HashTF\n",
       "18   True Negatives     3893.0    GBT-HashTF\n",
       "19   True Negatives     4234.0       LSTM NN"
      ]
     },
     "execution_count": 62,
     "metadata": {},
     "output_type": "execute_result"
    }
   ],
   "source": [
    "# build a dataframe with which to plot confusion matrix frequencies\n",
    "# 20x3 dataframe with columns 'Category', 'Frequency', and 'Model'\n",
    "matrices = [lr_word2vec_matrix, gbt_word2vec_matrix, lr_hashtf_matrix, gbt_hashtf_matrix, lstm_matrix]\n",
    "categories = 5*['True Positives']+5*['False Positives']+5*['False Negatives']+5*['True Negatives']\n",
    "matrix_names = 4*['LR-Word2Vec','GBT-Word2Vec','LR-HashTF','GBT-HashTF','LSTM NN']\n",
    "TP = [matrix[0,0] for matrix in matrices]\n",
    "FP = [matrix[0,1] for matrix in matrices]\n",
    "FN = [matrix[1,0] for matrix in matrices]\n",
    "TN = [matrix[1,1] for matrix in matrices]\n",
    "cm_dict = {'Category':categories, 'Frequency':TP+FP+FN+TN, 'Model':matrix_names}\n",
    "DF_CM = pd.DataFrame(cm_dict)\n",
    "DF_CM"
   ]
  },
  {
   "cell_type": "code",
   "execution_count": 61,
   "id": "14a3d4f9-d129-4d90-a3b3-a2b385ba5f67",
   "metadata": {},
   "outputs": [
    {
     "data": {
      "text/plain": [
       "<AxesSubplot:xlabel='Category', ylabel='Frequency'>"
      ]
     },
     "execution_count": 61,
     "metadata": {},
     "output_type": "execute_result"
    },
    {
     "data": {
      "image/png": "[encoded data removed]",
      "text/plain": [
       "<Figure size 432x288 with 1 Axes>"
      ]
     },
     "metadata": {
      "needs_background": "light"
     },
     "output_type": "display_data"
    }
   ],
   "source": [
    "sns.barplot(x='Category',y='Frequency',hue='Model',data=DF_CM)"
   ]
  },
  {
   "cell_type": "code",
   "execution_count": null,
   "id": "73562450-a299-4b03-8cbf-fb65a34eb21a",
   "metadata": {},
   "outputs": [],
   "source": []
  }
 ],
 "metadata": {
  "kernelspec": {
   "display_name": "Python 3 (ipykernel)",
   "language": "python",
   "name": "python3"
  },
  "language_info": {
   "codemirror_mode": {
    "name": "ipython",
    "version": 3
   },
   "file_extension": ".py",
   "mimetype": "text/x-python",
   "name": "python",
   "nbconvert_exporter": "python",
   "pygments_lexer": "ipython3",
   "version": "3.10.5"
  }
 },
 "nbformat": 4,
 "nbformat_minor": 5
}
